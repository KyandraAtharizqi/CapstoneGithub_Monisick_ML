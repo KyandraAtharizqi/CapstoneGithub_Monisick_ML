{
 "cells": [
  {
   "cell_type": "code",
   "execution_count": 117,
   "metadata": {},
   "outputs": [],
   "source": [
    "import os\n",
    "import tensorflow as tf\n",
    "from tensorflow.keras.applications import InceptionV3\n",
    "from tensorflow.keras.layers import (    Input, Dense, GlobalAveragePooling2D, GlobalAveragePooling1D, TimeDistributed, Conv2D, Flatten,\n",
    "    Concatenate, BatchNormalization, Activation, Dropout, Softmax, Multiply,\n",
    "    Lambda, Permute)\n",
    "from tensorflow.keras.models import Model\n",
    "from tensorflow.keras.utils import Sequence\n",
    "from tensorflow.keras.optimizers import Adam\n",
    "import pandas as pd\n",
    "import numpy as np\n",
    "from tensorflow.keras.preprocessing.image import load_img, img_to_array\n",
    "import cv2"
   ]
  },
  {
   "cell_type": "code",
   "execution_count": null,
   "metadata": {},
   "outputs": [],
   "source": [
    "# Constants\n",
    "IMG_SHAPE = (224, 224, 3)\n",
    "BATCH_SIZE = 2\n",
    "DISH_CLEANED_CSV = r\"C:\\Users\\Rafi Kyandra\\VSCODE\\Semester 5\\Bangkit MSIB\\CapstoneGithub_Monisick_ML\\CapstoneGithub\\metadata\\dish_cleaned.csv\"\n",
    "FRAMES_DIR = r\"C:\\Users\\Rafi Kyandra\\VSCODE\\Semester 5\\Bangkit MSIB\\CapstoneGithub_Monisick_ML\\CapstoneGithub\\images\\frames\"\n",
    "OVERHEAD_DIR = r\"C:\\Users\\Rafi Kyandra\\VSCODE\\Semester 5\\Bangkit MSIB\\CapstoneGithub_Monisick_ML\\CapstoneGithub\\images\\overhead\""
   ]
  },
  {
   "cell_type": "code",
   "execution_count": 121,
   "metadata": {},
   "outputs": [],
   "source": [
    "# Load dish metadata\n",
    "dish_data = pd.read_csv(DISH_CLEANED_CSV, header=None)\n",
    "dish_data.columns = ['dish_id', 'total_calories', 'total_mass', 'total_fat', 'total_carb', 'total_protein']\n",
    "\n",
    "# Dish IDs\n",
    "dish_ids = dish_data['dish_id'].unique()\n",
    "\n",
    "# Dataset splitting\n",
    "np.random.seed(42)\n",
    "np.random.shuffle(dish_ids)\n",
    "val_ids = dish_ids[:2]\n",
    "test_ids = dish_ids[2:4]\n",
    "train_ids = dish_ids[4:]"
   ]
  },
  {
   "cell_type": "code",
   "execution_count": 167,
   "metadata": {},
   "outputs": [],
   "source": [
    "class MultiInputGenerator(Sequence):\n",
    "    def __init__(self, dish_ids, batch_size, dish_data):\n",
    "        self.dish_ids = dish_ids\n",
    "        self.batch_size = batch_size\n",
    "        self.dish_data = dish_data\n",
    "        self.on_epoch_end()\n",
    "\n",
    "    def __len__(self):\n",
    "        return int(np.ceil(len(self.dish_ids) / self.batch_size))\n",
    "\n",
    "    def on_epoch_end(self):\n",
    "        np.random.shuffle(self.dish_ids)\n",
    "\n",
    "    def __getitem__(self, index):\n",
    "        batch_dish_ids = self.dish_ids[index * self.batch_size:(index + 1) * self.batch_size]\n",
    "\n",
    "        rgb_imgs, depth_raw_imgs, depth_color_imgs, frames = [], [], [], []\n",
    "        mass_labels, macro_labels = [], []\n",
    "\n",
    "        for dish_id in batch_dish_ids:\n",
    "            dish_row = self.dish_data[self.dish_data['dish_id'] == dish_id].iloc[0]\n",
    "            mass_labels.append(dish_row['total_mass'])\n",
    "            macro_labels.append([ \n",
    "                dish_row['total_calories'],\n",
    "                dish_row['total_fat'],\n",
    "                dish_row['total_carb'],\n",
    "                dish_row['total_protein']\n",
    "            ])\n",
    "\n",
    "            # Load overhead images\n",
    "            rgb_imgs.append(preprocess_image(os.path.join(OVERHEAD_DIR, f\"{dish_id}\", \"rgb.png\")))\n",
    "            depth_raw_imgs.append(preprocess_image(os.path.join(OVERHEAD_DIR, f\"{dish_id}\", \"depth_raw.png\")))\n",
    "            depth_color_imgs.append(preprocess_image(os.path.join(OVERHEAD_DIR, f\"{dish_id}\", \"depth_color.png\")))\n",
    "\n",
    "            # Load frames independently (not as sequences)\n",
    "            frame_dir = os.path.join(FRAMES_DIR, f\"{dish_id}\", \"frames_sampled30\")\n",
    "            frame_paths = sorted([os.path.join(frame_dir, f) for f in os.listdir(frame_dir) if f.endswith(\".jpeg\")])\n",
    "            frames += [preprocess_image(f) for f in frame_paths]\n",
    "\n",
    "        return (\n",
    "            {\n",
    "                \"rgb_input\": np.array(rgb_imgs),\n",
    "                \"depth_raw_input\": np.array(depth_raw_imgs),\n",
    "                \"depth_color_input\": np.array(depth_color_imgs),\n",
    "                \"frame_input\": np.array(frames),  # Frames handled independently\n",
    "            },\n",
    "            {\n",
    "                \"mass_output\": np.array(mass_labels),\n",
    "                \"macro_output\": np.array(macro_labels),\n",
    "            },\n",
    "        )\n"
   ]
  },
  {
   "cell_type": "code",
   "execution_count": 155,
   "metadata": {},
   "outputs": [
    {
     "data": {
      "text/html": [
       "<pre style=\"white-space:pre;overflow-x:auto;line-height:normal;font-family:Menlo,'DejaVu Sans Mono',consolas,'Courier New',monospace\"><span style=\"font-weight: bold\">Model: \"functional_45\"</span>\n",
       "</pre>\n"
      ],
      "text/plain": [
       "\u001b[1mModel: \"functional_45\"\u001b[0m\n"
      ]
     },
     "metadata": {},
     "output_type": "display_data"
    },
    {
     "data": {
      "text/html": [
       "<pre style=\"white-space:pre;overflow-x:auto;line-height:normal;font-family:Menlo,'DejaVu Sans Mono',consolas,'Courier New',monospace\">┏━━━━━━━━━━━━━━━━━━━━━┳━━━━━━━━━━━━━━━━━━━┳━━━━━━━━━━━━┳━━━━━━━━━━━━━━━━━━━┓\n",
       "┃<span style=\"font-weight: bold\"> Layer (type)        </span>┃<span style=\"font-weight: bold\"> Output Shape      </span>┃<span style=\"font-weight: bold\">    Param # </span>┃<span style=\"font-weight: bold\"> Connected to      </span>┃\n",
       "┡━━━━━━━━━━━━━━━━━━━━━╇━━━━━━━━━━━━━━━━━━━╇━━━━━━━━━━━━╇━━━━━━━━━━━━━━━━━━━┩\n",
       "│ rgb_input           │ (<span style=\"color: #00d7ff; text-decoration-color: #00d7ff\">None</span>, <span style=\"color: #00af00; text-decoration-color: #00af00\">224</span>, <span style=\"color: #00af00; text-decoration-color: #00af00\">224</span>,  │          <span style=\"color: #00af00; text-decoration-color: #00af00\">0</span> │ -                 │\n",
       "│ (<span style=\"color: #0087ff; text-decoration-color: #0087ff\">InputLayer</span>)        │ <span style=\"color: #00af00; text-decoration-color: #00af00\">3</span>)                │            │                   │\n",
       "├─────────────────────┼───────────────────┼────────────┼───────────────────┤\n",
       "│ depth_raw_input     │ (<span style=\"color: #00d7ff; text-decoration-color: #00d7ff\">None</span>, <span style=\"color: #00af00; text-decoration-color: #00af00\">224</span>, <span style=\"color: #00af00; text-decoration-color: #00af00\">224</span>,  │          <span style=\"color: #00af00; text-decoration-color: #00af00\">0</span> │ -                 │\n",
       "│ (<span style=\"color: #0087ff; text-decoration-color: #0087ff\">InputLayer</span>)        │ <span style=\"color: #00af00; text-decoration-color: #00af00\">3</span>)                │            │                   │\n",
       "├─────────────────────┼───────────────────┼────────────┼───────────────────┤\n",
       "│ depth_color_input   │ (<span style=\"color: #00d7ff; text-decoration-color: #00d7ff\">None</span>, <span style=\"color: #00af00; text-decoration-color: #00af00\">224</span>, <span style=\"color: #00af00; text-decoration-color: #00af00\">224</span>,  │          <span style=\"color: #00af00; text-decoration-color: #00af00\">0</span> │ -                 │\n",
       "│ (<span style=\"color: #0087ff; text-decoration-color: #0087ff\">InputLayer</span>)        │ <span style=\"color: #00af00; text-decoration-color: #00af00\">3</span>)                │            │                   │\n",
       "├─────────────────────┼───────────────────┼────────────┼───────────────────┤\n",
       "│ frame_input         │ (<span style=\"color: #00d7ff; text-decoration-color: #00d7ff\">None</span>, <span style=\"color: #00af00; text-decoration-color: #00af00\">224</span>, <span style=\"color: #00af00; text-decoration-color: #00af00\">224</span>,  │          <span style=\"color: #00af00; text-decoration-color: #00af00\">0</span> │ -                 │\n",
       "│ (<span style=\"color: #0087ff; text-decoration-color: #0087ff\">InputLayer</span>)        │ <span style=\"color: #00af00; text-decoration-color: #00af00\">3</span>)                │            │                   │\n",
       "├─────────────────────┼───────────────────┼────────────┼───────────────────┤\n",
       "│ conv2d_3060         │ (<span style=\"color: #00d7ff; text-decoration-color: #00d7ff\">None</span>, <span style=\"color: #00af00; text-decoration-color: #00af00\">222</span>, <span style=\"color: #00af00; text-decoration-color: #00af00\">222</span>,  │        <span style=\"color: #00af00; text-decoration-color: #00af00\">896</span> │ rgb_input[<span style=\"color: #00af00; text-decoration-color: #00af00\">0</span>][<span style=\"color: #00af00; text-decoration-color: #00af00\">0</span>]   │\n",
       "│ (<span style=\"color: #0087ff; text-decoration-color: #0087ff\">Conv2D</span>)            │ <span style=\"color: #00af00; text-decoration-color: #00af00\">32</span>)               │            │                   │\n",
       "├─────────────────────┼───────────────────┼────────────┼───────────────────┤\n",
       "│ conv2d_3061         │ (<span style=\"color: #00d7ff; text-decoration-color: #00d7ff\">None</span>, <span style=\"color: #00af00; text-decoration-color: #00af00\">222</span>, <span style=\"color: #00af00; text-decoration-color: #00af00\">222</span>,  │        <span style=\"color: #00af00; text-decoration-color: #00af00\">896</span> │ depth_raw_input[<span style=\"color: #00af00; text-decoration-color: #00af00\">…</span> │\n",
       "│ (<span style=\"color: #0087ff; text-decoration-color: #0087ff\">Conv2D</span>)            │ <span style=\"color: #00af00; text-decoration-color: #00af00\">32</span>)               │            │                   │\n",
       "├─────────────────────┼───────────────────┼────────────┼───────────────────┤\n",
       "│ conv2d_3062         │ (<span style=\"color: #00d7ff; text-decoration-color: #00d7ff\">None</span>, <span style=\"color: #00af00; text-decoration-color: #00af00\">222</span>, <span style=\"color: #00af00; text-decoration-color: #00af00\">222</span>,  │        <span style=\"color: #00af00; text-decoration-color: #00af00\">896</span> │ depth_color_inpu… │\n",
       "│ (<span style=\"color: #0087ff; text-decoration-color: #0087ff\">Conv2D</span>)            │ <span style=\"color: #00af00; text-decoration-color: #00af00\">32</span>)               │            │                   │\n",
       "├─────────────────────┼───────────────────┼────────────┼───────────────────┤\n",
       "│ inception_rgb       │ (<span style=\"color: #00d7ff; text-decoration-color: #00d7ff\">None</span>, <span style=\"color: #00af00; text-decoration-color: #00af00\">5</span>, <span style=\"color: #00af00; text-decoration-color: #00af00\">5</span>,      │ <span style=\"color: #00af00; text-decoration-color: #00af00\">21,802,784</span> │ frame_input[<span style=\"color: #00af00; text-decoration-color: #00af00\">0</span>][<span style=\"color: #00af00; text-decoration-color: #00af00\">0</span>] │\n",
       "│ (<span style=\"color: #0087ff; text-decoration-color: #0087ff\">Functional</span>)        │ <span style=\"color: #00af00; text-decoration-color: #00af00\">2048</span>)             │            │                   │\n",
       "├─────────────────────┼───────────────────┼────────────┼───────────────────┤\n",
       "│ max_pooling2d_178   │ (<span style=\"color: #00d7ff; text-decoration-color: #00d7ff\">None</span>, <span style=\"color: #00af00; text-decoration-color: #00af00\">111</span>, <span style=\"color: #00af00; text-decoration-color: #00af00\">111</span>,  │          <span style=\"color: #00af00; text-decoration-color: #00af00\">0</span> │ conv2d_3060[<span style=\"color: #00af00; text-decoration-color: #00af00\">0</span>][<span style=\"color: #00af00; text-decoration-color: #00af00\">0</span>] │\n",
       "│ (<span style=\"color: #0087ff; text-decoration-color: #0087ff\">MaxPooling2D</span>)      │ <span style=\"color: #00af00; text-decoration-color: #00af00\">32</span>)               │            │                   │\n",
       "├─────────────────────┼───────────────────┼────────────┼───────────────────┤\n",
       "│ max_pooling2d_179   │ (<span style=\"color: #00d7ff; text-decoration-color: #00d7ff\">None</span>, <span style=\"color: #00af00; text-decoration-color: #00af00\">111</span>, <span style=\"color: #00af00; text-decoration-color: #00af00\">111</span>,  │          <span style=\"color: #00af00; text-decoration-color: #00af00\">0</span> │ conv2d_3061[<span style=\"color: #00af00; text-decoration-color: #00af00\">0</span>][<span style=\"color: #00af00; text-decoration-color: #00af00\">0</span>] │\n",
       "│ (<span style=\"color: #0087ff; text-decoration-color: #0087ff\">MaxPooling2D</span>)      │ <span style=\"color: #00af00; text-decoration-color: #00af00\">32</span>)               │            │                   │\n",
       "├─────────────────────┼───────────────────┼────────────┼───────────────────┤\n",
       "│ max_pooling2d_180   │ (<span style=\"color: #00d7ff; text-decoration-color: #00d7ff\">None</span>, <span style=\"color: #00af00; text-decoration-color: #00af00\">111</span>, <span style=\"color: #00af00; text-decoration-color: #00af00\">111</span>,  │          <span style=\"color: #00af00; text-decoration-color: #00af00\">0</span> │ conv2d_3062[<span style=\"color: #00af00; text-decoration-color: #00af00\">0</span>][<span style=\"color: #00af00; text-decoration-color: #00af00\">0</span>] │\n",
       "│ (<span style=\"color: #0087ff; text-decoration-color: #0087ff\">MaxPooling2D</span>)      │ <span style=\"color: #00af00; text-decoration-color: #00af00\">32</span>)               │            │                   │\n",
       "├─────────────────────┼───────────────────┼────────────┼───────────────────┤\n",
       "│ global_average_poo… │ (<span style=\"color: #00d7ff; text-decoration-color: #00d7ff\">None</span>, <span style=\"color: #00af00; text-decoration-color: #00af00\">2048</span>)      │          <span style=\"color: #00af00; text-decoration-color: #00af00\">0</span> │ inception_rgb[<span style=\"color: #00af00; text-decoration-color: #00af00\">0</span>]… │\n",
       "│ (<span style=\"color: #0087ff; text-decoration-color: #0087ff\">GlobalAveragePool…</span> │                   │            │                   │\n",
       "├─────────────────────┼───────────────────┼────────────┼───────────────────┤\n",
       "│ flatten_24          │ (<span style=\"color: #00d7ff; text-decoration-color: #00d7ff\">None</span>, <span style=\"color: #00af00; text-decoration-color: #00af00\">394272</span>)    │          <span style=\"color: #00af00; text-decoration-color: #00af00\">0</span> │ max_pooling2d_17… │\n",
       "│ (<span style=\"color: #0087ff; text-decoration-color: #0087ff\">Flatten</span>)           │                   │            │                   │\n",
       "├─────────────────────┼───────────────────┼────────────┼───────────────────┤\n",
       "│ flatten_25          │ (<span style=\"color: #00d7ff; text-decoration-color: #00d7ff\">None</span>, <span style=\"color: #00af00; text-decoration-color: #00af00\">394272</span>)    │          <span style=\"color: #00af00; text-decoration-color: #00af00\">0</span> │ max_pooling2d_17… │\n",
       "│ (<span style=\"color: #0087ff; text-decoration-color: #0087ff\">Flatten</span>)           │                   │            │                   │\n",
       "├─────────────────────┼───────────────────┼────────────┼───────────────────┤\n",
       "│ flatten_26          │ (<span style=\"color: #00d7ff; text-decoration-color: #00d7ff\">None</span>, <span style=\"color: #00af00; text-decoration-color: #00af00\">394272</span>)    │          <span style=\"color: #00af00; text-decoration-color: #00af00\">0</span> │ max_pooling2d_18… │\n",
       "│ (<span style=\"color: #0087ff; text-decoration-color: #0087ff\">Flatten</span>)           │                   │            │                   │\n",
       "├─────────────────────┼───────────────────┼────────────┼───────────────────┤\n",
       "│ dense_81 (<span style=\"color: #0087ff; text-decoration-color: #0087ff\">Dense</span>)    │ (<span style=\"color: #00d7ff; text-decoration-color: #00d7ff\">None</span>, <span style=\"color: #00af00; text-decoration-color: #00af00\">64</span>)        │    <span style=\"color: #00af00; text-decoration-color: #00af00\">131,136</span> │ global_average_p… │\n",
       "├─────────────────────┼───────────────────┼────────────┼───────────────────┤\n",
       "│ concatenate_92      │ (<span style=\"color: #00d7ff; text-decoration-color: #00d7ff\">None</span>, <span style=\"color: #00af00; text-decoration-color: #00af00\">1182880</span>)   │          <span style=\"color: #00af00; text-decoration-color: #00af00\">0</span> │ flatten_24[<span style=\"color: #00af00; text-decoration-color: #00af00\">0</span>][<span style=\"color: #00af00; text-decoration-color: #00af00\">0</span>], │\n",
       "│ (<span style=\"color: #0087ff; text-decoration-color: #0087ff\">Concatenate</span>)       │                   │            │ flatten_25[<span style=\"color: #00af00; text-decoration-color: #00af00\">0</span>][<span style=\"color: #00af00; text-decoration-color: #00af00\">0</span>], │\n",
       "│                     │                   │            │ flatten_26[<span style=\"color: #00af00; text-decoration-color: #00af00\">0</span>][<span style=\"color: #00af00; text-decoration-color: #00af00\">0</span>], │\n",
       "│                     │                   │            │ dense_81[<span style=\"color: #00af00; text-decoration-color: #00af00\">0</span>][<span style=\"color: #00af00; text-decoration-color: #00af00\">0</span>]    │\n",
       "├─────────────────────┼───────────────────┼────────────┼───────────────────┤\n",
       "│ dense_82 (<span style=\"color: #0087ff; text-decoration-color: #0087ff\">Dense</span>)    │ (<span style=\"color: #00d7ff; text-decoration-color: #00d7ff\">None</span>, <span style=\"color: #00af00; text-decoration-color: #00af00\">128</span>)       │ <span style=\"color: #00af00; text-decoration-color: #00af00\">151,408,7…</span> │ concatenate_92[<span style=\"color: #00af00; text-decoration-color: #00af00\">0</span>… │\n",
       "├─────────────────────┼───────────────────┼────────────┼───────────────────┤\n",
       "│ mass_output (<span style=\"color: #0087ff; text-decoration-color: #0087ff\">Dense</span>) │ (<span style=\"color: #00d7ff; text-decoration-color: #00d7ff\">None</span>, <span style=\"color: #00af00; text-decoration-color: #00af00\">1</span>)         │        <span style=\"color: #00af00; text-decoration-color: #00af00\">129</span> │ dense_82[<span style=\"color: #00af00; text-decoration-color: #00af00\">0</span>][<span style=\"color: #00af00; text-decoration-color: #00af00\">0</span>]    │\n",
       "├─────────────────────┼───────────────────┼────────────┼───────────────────┤\n",
       "│ macro_output        │ (<span style=\"color: #00d7ff; text-decoration-color: #00d7ff\">None</span>, <span style=\"color: #00af00; text-decoration-color: #00af00\">4</span>)         │        <span style=\"color: #00af00; text-decoration-color: #00af00\">516</span> │ dense_82[<span style=\"color: #00af00; text-decoration-color: #00af00\">0</span>][<span style=\"color: #00af00; text-decoration-color: #00af00\">0</span>]    │\n",
       "│ (<span style=\"color: #0087ff; text-decoration-color: #0087ff\">Dense</span>)             │                   │            │                   │\n",
       "└─────────────────────┴───────────────────┴────────────┴───────────────────┘\n",
       "</pre>\n"
      ],
      "text/plain": [
       "┏━━━━━━━━━━━━━━━━━━━━━┳━━━━━━━━━━━━━━━━━━━┳━━━━━━━━━━━━┳━━━━━━━━━━━━━━━━━━━┓\n",
       "┃\u001b[1m \u001b[0m\u001b[1mLayer (type)       \u001b[0m\u001b[1m \u001b[0m┃\u001b[1m \u001b[0m\u001b[1mOutput Shape     \u001b[0m\u001b[1m \u001b[0m┃\u001b[1m \u001b[0m\u001b[1m   Param #\u001b[0m\u001b[1m \u001b[0m┃\u001b[1m \u001b[0m\u001b[1mConnected to     \u001b[0m\u001b[1m \u001b[0m┃\n",
       "┡━━━━━━━━━━━━━━━━━━━━━╇━━━━━━━━━━━━━━━━━━━╇━━━━━━━━━━━━╇━━━━━━━━━━━━━━━━━━━┩\n",
       "│ rgb_input           │ (\u001b[38;5;45mNone\u001b[0m, \u001b[38;5;34m224\u001b[0m, \u001b[38;5;34m224\u001b[0m,  │          \u001b[38;5;34m0\u001b[0m │ -                 │\n",
       "│ (\u001b[38;5;33mInputLayer\u001b[0m)        │ \u001b[38;5;34m3\u001b[0m)                │            │                   │\n",
       "├─────────────────────┼───────────────────┼────────────┼───────────────────┤\n",
       "│ depth_raw_input     │ (\u001b[38;5;45mNone\u001b[0m, \u001b[38;5;34m224\u001b[0m, \u001b[38;5;34m224\u001b[0m,  │          \u001b[38;5;34m0\u001b[0m │ -                 │\n",
       "│ (\u001b[38;5;33mInputLayer\u001b[0m)        │ \u001b[38;5;34m3\u001b[0m)                │            │                   │\n",
       "├─────────────────────┼───────────────────┼────────────┼───────────────────┤\n",
       "│ depth_color_input   │ (\u001b[38;5;45mNone\u001b[0m, \u001b[38;5;34m224\u001b[0m, \u001b[38;5;34m224\u001b[0m,  │          \u001b[38;5;34m0\u001b[0m │ -                 │\n",
       "│ (\u001b[38;5;33mInputLayer\u001b[0m)        │ \u001b[38;5;34m3\u001b[0m)                │            │                   │\n",
       "├─────────────────────┼───────────────────┼────────────┼───────────────────┤\n",
       "│ frame_input         │ (\u001b[38;5;45mNone\u001b[0m, \u001b[38;5;34m224\u001b[0m, \u001b[38;5;34m224\u001b[0m,  │          \u001b[38;5;34m0\u001b[0m │ -                 │\n",
       "│ (\u001b[38;5;33mInputLayer\u001b[0m)        │ \u001b[38;5;34m3\u001b[0m)                │            │                   │\n",
       "├─────────────────────┼───────────────────┼────────────┼───────────────────┤\n",
       "│ conv2d_3060         │ (\u001b[38;5;45mNone\u001b[0m, \u001b[38;5;34m222\u001b[0m, \u001b[38;5;34m222\u001b[0m,  │        \u001b[38;5;34m896\u001b[0m │ rgb_input[\u001b[38;5;34m0\u001b[0m][\u001b[38;5;34m0\u001b[0m]   │\n",
       "│ (\u001b[38;5;33mConv2D\u001b[0m)            │ \u001b[38;5;34m32\u001b[0m)               │            │                   │\n",
       "├─────────────────────┼───────────────────┼────────────┼───────────────────┤\n",
       "│ conv2d_3061         │ (\u001b[38;5;45mNone\u001b[0m, \u001b[38;5;34m222\u001b[0m, \u001b[38;5;34m222\u001b[0m,  │        \u001b[38;5;34m896\u001b[0m │ depth_raw_input[\u001b[38;5;34m…\u001b[0m │\n",
       "│ (\u001b[38;5;33mConv2D\u001b[0m)            │ \u001b[38;5;34m32\u001b[0m)               │            │                   │\n",
       "├─────────────────────┼───────────────────┼────────────┼───────────────────┤\n",
       "│ conv2d_3062         │ (\u001b[38;5;45mNone\u001b[0m, \u001b[38;5;34m222\u001b[0m, \u001b[38;5;34m222\u001b[0m,  │        \u001b[38;5;34m896\u001b[0m │ depth_color_inpu… │\n",
       "│ (\u001b[38;5;33mConv2D\u001b[0m)            │ \u001b[38;5;34m32\u001b[0m)               │            │                   │\n",
       "├─────────────────────┼───────────────────┼────────────┼───────────────────┤\n",
       "│ inception_rgb       │ (\u001b[38;5;45mNone\u001b[0m, \u001b[38;5;34m5\u001b[0m, \u001b[38;5;34m5\u001b[0m,      │ \u001b[38;5;34m21,802,784\u001b[0m │ frame_input[\u001b[38;5;34m0\u001b[0m][\u001b[38;5;34m0\u001b[0m] │\n",
       "│ (\u001b[38;5;33mFunctional\u001b[0m)        │ \u001b[38;5;34m2048\u001b[0m)             │            │                   │\n",
       "├─────────────────────┼───────────────────┼────────────┼───────────────────┤\n",
       "│ max_pooling2d_178   │ (\u001b[38;5;45mNone\u001b[0m, \u001b[38;5;34m111\u001b[0m, \u001b[38;5;34m111\u001b[0m,  │          \u001b[38;5;34m0\u001b[0m │ conv2d_3060[\u001b[38;5;34m0\u001b[0m][\u001b[38;5;34m0\u001b[0m] │\n",
       "│ (\u001b[38;5;33mMaxPooling2D\u001b[0m)      │ \u001b[38;5;34m32\u001b[0m)               │            │                   │\n",
       "├─────────────────────┼───────────────────┼────────────┼───────────────────┤\n",
       "│ max_pooling2d_179   │ (\u001b[38;5;45mNone\u001b[0m, \u001b[38;5;34m111\u001b[0m, \u001b[38;5;34m111\u001b[0m,  │          \u001b[38;5;34m0\u001b[0m │ conv2d_3061[\u001b[38;5;34m0\u001b[0m][\u001b[38;5;34m0\u001b[0m] │\n",
       "│ (\u001b[38;5;33mMaxPooling2D\u001b[0m)      │ \u001b[38;5;34m32\u001b[0m)               │            │                   │\n",
       "├─────────────────────┼───────────────────┼────────────┼───────────────────┤\n",
       "│ max_pooling2d_180   │ (\u001b[38;5;45mNone\u001b[0m, \u001b[38;5;34m111\u001b[0m, \u001b[38;5;34m111\u001b[0m,  │          \u001b[38;5;34m0\u001b[0m │ conv2d_3062[\u001b[38;5;34m0\u001b[0m][\u001b[38;5;34m0\u001b[0m] │\n",
       "│ (\u001b[38;5;33mMaxPooling2D\u001b[0m)      │ \u001b[38;5;34m32\u001b[0m)               │            │                   │\n",
       "├─────────────────────┼───────────────────┼────────────┼───────────────────┤\n",
       "│ global_average_poo… │ (\u001b[38;5;45mNone\u001b[0m, \u001b[38;5;34m2048\u001b[0m)      │          \u001b[38;5;34m0\u001b[0m │ inception_rgb[\u001b[38;5;34m0\u001b[0m]… │\n",
       "│ (\u001b[38;5;33mGlobalAveragePool…\u001b[0m │                   │            │                   │\n",
       "├─────────────────────┼───────────────────┼────────────┼───────────────────┤\n",
       "│ flatten_24          │ (\u001b[38;5;45mNone\u001b[0m, \u001b[38;5;34m394272\u001b[0m)    │          \u001b[38;5;34m0\u001b[0m │ max_pooling2d_17… │\n",
       "│ (\u001b[38;5;33mFlatten\u001b[0m)           │                   │            │                   │\n",
       "├─────────────────────┼───────────────────┼────────────┼───────────────────┤\n",
       "│ flatten_25          │ (\u001b[38;5;45mNone\u001b[0m, \u001b[38;5;34m394272\u001b[0m)    │          \u001b[38;5;34m0\u001b[0m │ max_pooling2d_17… │\n",
       "│ (\u001b[38;5;33mFlatten\u001b[0m)           │                   │            │                   │\n",
       "├─────────────────────┼───────────────────┼────────────┼───────────────────┤\n",
       "│ flatten_26          │ (\u001b[38;5;45mNone\u001b[0m, \u001b[38;5;34m394272\u001b[0m)    │          \u001b[38;5;34m0\u001b[0m │ max_pooling2d_18… │\n",
       "│ (\u001b[38;5;33mFlatten\u001b[0m)           │                   │            │                   │\n",
       "├─────────────────────┼───────────────────┼────────────┼───────────────────┤\n",
       "│ dense_81 (\u001b[38;5;33mDense\u001b[0m)    │ (\u001b[38;5;45mNone\u001b[0m, \u001b[38;5;34m64\u001b[0m)        │    \u001b[38;5;34m131,136\u001b[0m │ global_average_p… │\n",
       "├─────────────────────┼───────────────────┼────────────┼───────────────────┤\n",
       "│ concatenate_92      │ (\u001b[38;5;45mNone\u001b[0m, \u001b[38;5;34m1182880\u001b[0m)   │          \u001b[38;5;34m0\u001b[0m │ flatten_24[\u001b[38;5;34m0\u001b[0m][\u001b[38;5;34m0\u001b[0m], │\n",
       "│ (\u001b[38;5;33mConcatenate\u001b[0m)       │                   │            │ flatten_25[\u001b[38;5;34m0\u001b[0m][\u001b[38;5;34m0\u001b[0m], │\n",
       "│                     │                   │            │ flatten_26[\u001b[38;5;34m0\u001b[0m][\u001b[38;5;34m0\u001b[0m], │\n",
       "│                     │                   │            │ dense_81[\u001b[38;5;34m0\u001b[0m][\u001b[38;5;34m0\u001b[0m]    │\n",
       "├─────────────────────┼───────────────────┼────────────┼───────────────────┤\n",
       "│ dense_82 (\u001b[38;5;33mDense\u001b[0m)    │ (\u001b[38;5;45mNone\u001b[0m, \u001b[38;5;34m128\u001b[0m)       │ \u001b[38;5;34m151,408,7…\u001b[0m │ concatenate_92[\u001b[38;5;34m0\u001b[0m… │\n",
       "├─────────────────────┼───────────────────┼────────────┼───────────────────┤\n",
       "│ mass_output (\u001b[38;5;33mDense\u001b[0m) │ (\u001b[38;5;45mNone\u001b[0m, \u001b[38;5;34m1\u001b[0m)         │        \u001b[38;5;34m129\u001b[0m │ dense_82[\u001b[38;5;34m0\u001b[0m][\u001b[38;5;34m0\u001b[0m]    │\n",
       "├─────────────────────┼───────────────────┼────────────┼───────────────────┤\n",
       "│ macro_output        │ (\u001b[38;5;45mNone\u001b[0m, \u001b[38;5;34m4\u001b[0m)         │        \u001b[38;5;34m516\u001b[0m │ dense_82[\u001b[38;5;34m0\u001b[0m][\u001b[38;5;34m0\u001b[0m]    │\n",
       "│ (\u001b[38;5;33mDense\u001b[0m)             │                   │            │                   │\n",
       "└─────────────────────┴───────────────────┴────────────┴───────────────────┘\n"
      ]
     },
     "metadata": {},
     "output_type": "display_data"
    },
    {
     "data": {
      "text/html": [
       "<pre style=\"white-space:pre;overflow-x:auto;line-height:normal;font-family:Menlo,'DejaVu Sans Mono',consolas,'Courier New',monospace\"><span style=\"font-weight: bold\"> Total params: </span><span style=\"color: #00af00; text-decoration-color: #00af00\">173,346,021</span> (661.26 MB)\n",
       "</pre>\n"
      ],
      "text/plain": [
       "\u001b[1m Total params: \u001b[0m\u001b[38;5;34m173,346,021\u001b[0m (661.26 MB)\n"
      ]
     },
     "metadata": {},
     "output_type": "display_data"
    },
    {
     "data": {
      "text/html": [
       "<pre style=\"white-space:pre;overflow-x:auto;line-height:normal;font-family:Menlo,'DejaVu Sans Mono',consolas,'Courier New',monospace\"><span style=\"font-weight: bold\"> Trainable params: </span><span style=\"color: #00af00; text-decoration-color: #00af00\">173,311,589</span> (661.13 MB)\n",
       "</pre>\n"
      ],
      "text/plain": [
       "\u001b[1m Trainable params: \u001b[0m\u001b[38;5;34m173,311,589\u001b[0m (661.13 MB)\n"
      ]
     },
     "metadata": {},
     "output_type": "display_data"
    },
    {
     "data": {
      "text/html": [
       "<pre style=\"white-space:pre;overflow-x:auto;line-height:normal;font-family:Menlo,'DejaVu Sans Mono',consolas,'Courier New',monospace\"><span style=\"font-weight: bold\"> Non-trainable params: </span><span style=\"color: #00af00; text-decoration-color: #00af00\">34,432</span> (134.50 KB)\n",
       "</pre>\n"
      ],
      "text/plain": [
       "\u001b[1m Non-trainable params: \u001b[0m\u001b[38;5;34m34,432\u001b[0m (134.50 KB)\n"
      ]
     },
     "metadata": {},
     "output_type": "display_data"
    }
   ],
   "source": [
    "def build_model(input_shape_rgb, input_shape_depth_raw, input_shape_depth_color, frame_input_shape):\n",
    "    # Input layers\n",
    "    rgb_input = layers.Input(shape=input_shape_rgb, name=\"rgb_input\")\n",
    "    depth_raw_input = layers.Input(shape=input_shape_depth_raw, name=\"depth_raw_input\")\n",
    "    depth_color_input = layers.Input(shape=input_shape_depth_color, name=\"depth_color_input\")\n",
    "    \n",
    "    # Frame input\n",
    "    frame_input = layers.Input(shape=frame_input_shape, name=\"frame_input\")  # shape=(224, 224, 3)\n",
    "\n",
    "    # Frame Processing with InceptionV3 (for ingredient classification)\n",
    "    base_rgb = InceptionV3(weights=None, include_top=False, input_shape=frame_input_shape, name=\"inception_rgb\")\n",
    "    x_rgb = base_rgb(frame_input)\n",
    "    x_rgb = layers.GlobalAveragePooling2D()(x_rgb)\n",
    "    frame_output = layers.Dense(64, activation=\"relu\")(x_rgb)  # Classification layer for frames\n",
    "\n",
    "    # Depth images processing (similar to Midas architecture)\n",
    "    # For RGB input\n",
    "    x_rgb = layers.Conv2D(32, (3, 3), activation='relu')(rgb_input)\n",
    "    x_rgb = layers.MaxPooling2D()(x_rgb)\n",
    "    x_rgb = layers.Flatten()(x_rgb)\n",
    "    \n",
    "    # For raw depth input\n",
    "    x_depth_raw = layers.Conv2D(32, (3, 3), activation='relu')(depth_raw_input)\n",
    "    x_depth_raw = layers.MaxPooling2D()(x_depth_raw)\n",
    "    x_depth_raw = layers.Flatten()(x_depth_raw)\n",
    "    \n",
    "    # For color depth input\n",
    "    x_depth_color = layers.Conv2D(32, (3, 3), activation='relu')(depth_color_input)\n",
    "    x_depth_color = layers.MaxPooling2D()(x_depth_color)\n",
    "    x_depth_color = layers.Flatten()(x_depth_color)\n",
    "\n",
    "    # Concatenate all features\n",
    "    x = layers.concatenate([x_rgb, x_depth_raw, x_depth_color, frame_output], axis=-1)\n",
    "\n",
    "    # Dense layers for final prediction\n",
    "    x = layers.Dense(128, activation=\"relu\")(x)\n",
    "\n",
    "    # Output layers\n",
    "    mass_output = layers.Dense(1, name=\"mass_output\")(x)  # Predict total mass\n",
    "    macro_output = layers.Dense(4, name=\"macro_output\")(x)  # Predict macro nutrients (calories, fat, carbs, protein)\n",
    "\n",
    "    # Define the model\n",
    "    model = models.Model(inputs=[rgb_input, depth_raw_input, depth_color_input, frame_input],\n",
    "                         outputs=[mass_output, macro_output])\n",
    "\n",
    "    return model\n",
    "\n",
    "\n",
    "# Build the model\n",
    "model = build_model(input_shape_rgb, input_shape_depth_raw, input_shape_depth_color, frame_input_shape)\n",
    "\n",
    "# Compile the model\n",
    "model.compile(\n",
    "    optimizer=Adam(learning_rate=0.0001),\n",
    "    loss={\n",
    "        \"mass_output\": \"mean_squared_error\",  # MSE for total mass prediction\n",
    "        \"macro_output\": \"mean_squared_error\",  # MSE for macro nutrient prediction\n",
    "    },\n",
    "    metrics=[\"mae\"]  # Mean Absolute Error for evaluation\n",
    ")\n",
    "\n",
    "# Summary of the model\n",
    "model.summary()\n",
    "\n"
   ]
  },
  {
   "cell_type": "code",
   "execution_count": 168,
   "metadata": {},
   "outputs": [],
   "source": [
    "# Train, val, test data generators\n",
    "train_gen = MultiInputGenerator(train_ids, BATCH_SIZE, dish_data)\n",
    "val_gen = MultiInputGenerator(val_ids, BATCH_SIZE, dish_data)\n",
    "test_gen = MultiInputGenerator(test_ids, BATCH_SIZE, dish_data)"
   ]
  },
  {
   "cell_type": "code",
   "execution_count": 169,
   "metadata": {},
   "outputs": [
    {
     "name": "stdout",
     "output_type": "stream",
     "text": [
      "Epoch 1/50\n"
     ]
    },
    {
     "ename": "InvalidArgumentError",
     "evalue": "Graph execution error:\n\nDetected at node functional_45_1/concatenate_92_1/concat defined at (most recent call last):\n  File \"<frozen runpy>\", line 198, in _run_module_as_main\n\n  File \"<frozen runpy>\", line 88, in _run_code\n\n  File \"c:\\Users\\Rafi Kyandra\\VSCODE\\Semester 5\\Bangkit MSIB\\CapstoneGithub\\CapstoneGithubVenv\\Lib\\site-packages\\ipykernel_launcher.py\", line 18, in <module>\n\n  File \"c:\\Users\\Rafi Kyandra\\VSCODE\\Semester 5\\Bangkit MSIB\\CapstoneGithub\\CapstoneGithubVenv\\Lib\\site-packages\\traitlets\\config\\application.py\", line 1075, in launch_instance\n\n  File \"c:\\Users\\Rafi Kyandra\\VSCODE\\Semester 5\\Bangkit MSIB\\CapstoneGithub\\CapstoneGithubVenv\\Lib\\site-packages\\ipykernel\\kernelapp.py\", line 739, in start\n\n  File \"c:\\Users\\Rafi Kyandra\\VSCODE\\Semester 5\\Bangkit MSIB\\CapstoneGithub\\CapstoneGithubVenv\\Lib\\site-packages\\tornado\\platform\\asyncio.py\", line 205, in start\n\n  File \"C:\\Users\\Rafi Kyandra\\AppData\\Local\\Programs\\Python\\Python311\\Lib\\asyncio\\base_events.py\", line 607, in run_forever\n\n  File \"C:\\Users\\Rafi Kyandra\\AppData\\Local\\Programs\\Python\\Python311\\Lib\\asyncio\\base_events.py\", line 1922, in _run_once\n\n  File \"C:\\Users\\Rafi Kyandra\\AppData\\Local\\Programs\\Python\\Python311\\Lib\\asyncio\\events.py\", line 80, in _run\n\n  File \"c:\\Users\\Rafi Kyandra\\VSCODE\\Semester 5\\Bangkit MSIB\\CapstoneGithub\\CapstoneGithubVenv\\Lib\\site-packages\\ipykernel\\kernelbase.py\", line 545, in dispatch_queue\n\n  File \"c:\\Users\\Rafi Kyandra\\VSCODE\\Semester 5\\Bangkit MSIB\\CapstoneGithub\\CapstoneGithubVenv\\Lib\\site-packages\\ipykernel\\kernelbase.py\", line 534, in process_one\n\n  File \"c:\\Users\\Rafi Kyandra\\VSCODE\\Semester 5\\Bangkit MSIB\\CapstoneGithub\\CapstoneGithubVenv\\Lib\\site-packages\\ipykernel\\kernelbase.py\", line 437, in dispatch_shell\n\n  File \"c:\\Users\\Rafi Kyandra\\VSCODE\\Semester 5\\Bangkit MSIB\\CapstoneGithub\\CapstoneGithubVenv\\Lib\\site-packages\\ipykernel\\ipkernel.py\", line 362, in execute_request\n\n  File \"c:\\Users\\Rafi Kyandra\\VSCODE\\Semester 5\\Bangkit MSIB\\CapstoneGithub\\CapstoneGithubVenv\\Lib\\site-packages\\ipykernel\\kernelbase.py\", line 778, in execute_request\n\n  File \"c:\\Users\\Rafi Kyandra\\VSCODE\\Semester 5\\Bangkit MSIB\\CapstoneGithub\\CapstoneGithubVenv\\Lib\\site-packages\\ipykernel\\ipkernel.py\", line 449, in do_execute\n\n  File \"c:\\Users\\Rafi Kyandra\\VSCODE\\Semester 5\\Bangkit MSIB\\CapstoneGithub\\CapstoneGithubVenv\\Lib\\site-packages\\ipykernel\\zmqshell.py\", line 549, in run_cell\n\n  File \"c:\\Users\\Rafi Kyandra\\VSCODE\\Semester 5\\Bangkit MSIB\\CapstoneGithub\\CapstoneGithubVenv\\Lib\\site-packages\\IPython\\core\\interactiveshell.py\", line 3075, in run_cell\n\n  File \"c:\\Users\\Rafi Kyandra\\VSCODE\\Semester 5\\Bangkit MSIB\\CapstoneGithub\\CapstoneGithubVenv\\Lib\\site-packages\\IPython\\core\\interactiveshell.py\", line 3130, in _run_cell\n\n  File \"c:\\Users\\Rafi Kyandra\\VSCODE\\Semester 5\\Bangkit MSIB\\CapstoneGithub\\CapstoneGithubVenv\\Lib\\site-packages\\IPython\\core\\async_helpers.py\", line 128, in _pseudo_sync_runner\n\n  File \"c:\\Users\\Rafi Kyandra\\VSCODE\\Semester 5\\Bangkit MSIB\\CapstoneGithub\\CapstoneGithubVenv\\Lib\\site-packages\\IPython\\core\\interactiveshell.py\", line 3334, in run_cell_async\n\n  File \"c:\\Users\\Rafi Kyandra\\VSCODE\\Semester 5\\Bangkit MSIB\\CapstoneGithub\\CapstoneGithubVenv\\Lib\\site-packages\\IPython\\core\\interactiveshell.py\", line 3517, in run_ast_nodes\n\n  File \"c:\\Users\\Rafi Kyandra\\VSCODE\\Semester 5\\Bangkit MSIB\\CapstoneGithub\\CapstoneGithubVenv\\Lib\\site-packages\\IPython\\core\\interactiveshell.py\", line 3577, in run_code\n\n  File \"C:\\Users\\Rafi Kyandra\\AppData\\Local\\Temp\\ipykernel_1800\\1170213151.py\", line 15, in <module>\n\n  File \"c:\\Users\\Rafi Kyandra\\VSCODE\\Semester 5\\Bangkit MSIB\\CapstoneGithub\\CapstoneGithubVenv\\Lib\\site-packages\\keras\\src\\utils\\traceback_utils.py\", line 117, in error_handler\n\n  File \"c:\\Users\\Rafi Kyandra\\VSCODE\\Semester 5\\Bangkit MSIB\\CapstoneGithub\\CapstoneGithubVenv\\Lib\\site-packages\\keras\\src\\backend\\tensorflow\\trainer.py\", line 320, in fit\n\n  File \"c:\\Users\\Rafi Kyandra\\VSCODE\\Semester 5\\Bangkit MSIB\\CapstoneGithub\\CapstoneGithubVenv\\Lib\\site-packages\\keras\\src\\backend\\tensorflow\\trainer.py\", line 121, in one_step_on_iterator\n\n  File \"c:\\Users\\Rafi Kyandra\\VSCODE\\Semester 5\\Bangkit MSIB\\CapstoneGithub\\CapstoneGithubVenv\\Lib\\site-packages\\keras\\src\\backend\\tensorflow\\trainer.py\", line 108, in one_step_on_data\n\n  File \"c:\\Users\\Rafi Kyandra\\VSCODE\\Semester 5\\Bangkit MSIB\\CapstoneGithub\\CapstoneGithubVenv\\Lib\\site-packages\\keras\\src\\backend\\tensorflow\\trainer.py\", line 51, in train_step\n\n  File \"c:\\Users\\Rafi Kyandra\\VSCODE\\Semester 5\\Bangkit MSIB\\CapstoneGithub\\CapstoneGithubVenv\\Lib\\site-packages\\keras\\src\\utils\\traceback_utils.py\", line 117, in error_handler\n\n  File \"c:\\Users\\Rafi Kyandra\\VSCODE\\Semester 5\\Bangkit MSIB\\CapstoneGithub\\CapstoneGithubVenv\\Lib\\site-packages\\keras\\src\\layers\\layer.py\", line 899, in __call__\n\n  File \"c:\\Users\\Rafi Kyandra\\VSCODE\\Semester 5\\Bangkit MSIB\\CapstoneGithub\\CapstoneGithubVenv\\Lib\\site-packages\\keras\\src\\utils\\traceback_utils.py\", line 117, in error_handler\n\n  File \"c:\\Users\\Rafi Kyandra\\VSCODE\\Semester 5\\Bangkit MSIB\\CapstoneGithub\\CapstoneGithubVenv\\Lib\\site-packages\\keras\\src\\ops\\operation.py\", line 46, in __call__\n\n  File \"c:\\Users\\Rafi Kyandra\\VSCODE\\Semester 5\\Bangkit MSIB\\CapstoneGithub\\CapstoneGithubVenv\\Lib\\site-packages\\keras\\src\\utils\\traceback_utils.py\", line 156, in error_handler\n\n  File \"c:\\Users\\Rafi Kyandra\\VSCODE\\Semester 5\\Bangkit MSIB\\CapstoneGithub\\CapstoneGithubVenv\\Lib\\site-packages\\keras\\src\\models\\functional.py\", line 182, in call\n\n  File \"c:\\Users\\Rafi Kyandra\\VSCODE\\Semester 5\\Bangkit MSIB\\CapstoneGithub\\CapstoneGithubVenv\\Lib\\site-packages\\keras\\src\\ops\\function.py\", line 171, in _run_through_graph\n\n  File \"c:\\Users\\Rafi Kyandra\\VSCODE\\Semester 5\\Bangkit MSIB\\CapstoneGithub\\CapstoneGithubVenv\\Lib\\site-packages\\keras\\src\\models\\functional.py\", line 584, in call\n\n  File \"c:\\Users\\Rafi Kyandra\\VSCODE\\Semester 5\\Bangkit MSIB\\CapstoneGithub\\CapstoneGithubVenv\\Lib\\site-packages\\keras\\src\\utils\\traceback_utils.py\", line 117, in error_handler\n\n  File \"c:\\Users\\Rafi Kyandra\\VSCODE\\Semester 5\\Bangkit MSIB\\CapstoneGithub\\CapstoneGithubVenv\\Lib\\site-packages\\keras\\src\\layers\\layer.py\", line 899, in __call__\n\n  File \"c:\\Users\\Rafi Kyandra\\VSCODE\\Semester 5\\Bangkit MSIB\\CapstoneGithub\\CapstoneGithubVenv\\Lib\\site-packages\\keras\\src\\utils\\traceback_utils.py\", line 117, in error_handler\n\n  File \"c:\\Users\\Rafi Kyandra\\VSCODE\\Semester 5\\Bangkit MSIB\\CapstoneGithub\\CapstoneGithubVenv\\Lib\\site-packages\\keras\\src\\ops\\operation.py\", line 46, in __call__\n\n  File \"c:\\Users\\Rafi Kyandra\\VSCODE\\Semester 5\\Bangkit MSIB\\CapstoneGithub\\CapstoneGithubVenv\\Lib\\site-packages\\keras\\src\\utils\\traceback_utils.py\", line 156, in error_handler\n\n  File \"c:\\Users\\Rafi Kyandra\\VSCODE\\Semester 5\\Bangkit MSIB\\CapstoneGithub\\CapstoneGithubVenv\\Lib\\site-packages\\keras\\src\\layers\\merging\\base_merge.py\", line 226, in call\n\n  File \"c:\\Users\\Rafi Kyandra\\VSCODE\\Semester 5\\Bangkit MSIB\\CapstoneGithub\\CapstoneGithubVenv\\Lib\\site-packages\\keras\\src\\layers\\merging\\concatenate.py\", line 101, in _merge_function\n\n  File \"c:\\Users\\Rafi Kyandra\\VSCODE\\Semester 5\\Bangkit MSIB\\CapstoneGithub\\CapstoneGithubVenv\\Lib\\site-packages\\keras\\src\\ops\\numpy.py\", line 1640, in concatenate\n\n  File \"c:\\Users\\Rafi Kyandra\\VSCODE\\Semester 5\\Bangkit MSIB\\CapstoneGithub\\CapstoneGithubVenv\\Lib\\site-packages\\keras\\src\\backend\\tensorflow\\numpy.py\", line 942, in concatenate\n\nConcatOp : Dimension 0 in both shapes must be equal: shape[0] = [2,394272] vs. shape[2] = [28,394272]\n\t [[{{node functional_45_1/concatenate_92_1/concat}}]] [Op:__inference_one_step_on_iterator_229997]",
     "output_type": "error",
     "traceback": [
      "\u001b[1;31m---------------------------------------------------------------------------\u001b[0m",
      "\u001b[1;31mInvalidArgumentError\u001b[0m                      Traceback (most recent call last)",
      "Cell \u001b[1;32mIn[169], line 15\u001b[0m\n\u001b[0;32m      2\u001b[0m model\u001b[38;5;241m.\u001b[39mcompile(\n\u001b[0;32m      3\u001b[0m     optimizer\u001b[38;5;241m=\u001b[39mAdam(learning_rate\u001b[38;5;241m=\u001b[39m\u001b[38;5;241m0.0001\u001b[39m),\n\u001b[0;32m      4\u001b[0m     loss\u001b[38;5;241m=\u001b[39m{\n\u001b[1;32m   (...)\u001b[0m\n\u001b[0;32m     11\u001b[0m     }\n\u001b[0;32m     12\u001b[0m )\n\u001b[0;32m     14\u001b[0m \u001b[38;5;66;03m# Train the model\u001b[39;00m\n\u001b[1;32m---> 15\u001b[0m history \u001b[38;5;241m=\u001b[39m \u001b[43mmodel\u001b[49m\u001b[38;5;241;43m.\u001b[39;49m\u001b[43mfit\u001b[49m\u001b[43m(\u001b[49m\n\u001b[0;32m     16\u001b[0m \u001b[43m    \u001b[49m\u001b[43mtrain_gen\u001b[49m\u001b[43m,\u001b[49m\u001b[43m \u001b[49m\n\u001b[0;32m     17\u001b[0m \u001b[43m    \u001b[49m\u001b[43mepochs\u001b[49m\u001b[38;5;241;43m=\u001b[39;49m\u001b[38;5;241;43m50\u001b[39;49m\u001b[43m,\u001b[49m\u001b[43m  \u001b[49m\u001b[38;5;66;43;03m# Adjust the number of epochs as necessary\u001b[39;49;00m\n\u001b[0;32m     18\u001b[0m \u001b[43m    \u001b[49m\u001b[43mvalidation_data\u001b[49m\u001b[38;5;241;43m=\u001b[39;49m\u001b[43mval_gen\u001b[49m\u001b[43m,\u001b[49m\n\u001b[0;32m     19\u001b[0m \u001b[43m    \u001b[49m\u001b[43mverbose\u001b[49m\u001b[38;5;241;43m=\u001b[39;49m\u001b[38;5;241;43m1\u001b[39;49m\n\u001b[0;32m     20\u001b[0m \u001b[43m)\u001b[49m\n\u001b[0;32m     22\u001b[0m \u001b[38;5;66;03m# After training, evaluate the model on the test data\u001b[39;00m\n\u001b[0;32m     23\u001b[0m test_loss, test_mae \u001b[38;5;241m=\u001b[39m model\u001b[38;5;241m.\u001b[39mevaluate(test_gen)\n",
      "File \u001b[1;32mc:\\Users\\Rafi Kyandra\\VSCODE\\Semester 5\\Bangkit MSIB\\CapstoneGithub\\CapstoneGithubVenv\\Lib\\site-packages\\keras\\src\\utils\\traceback_utils.py:122\u001b[0m, in \u001b[0;36mfilter_traceback.<locals>.error_handler\u001b[1;34m(*args, **kwargs)\u001b[0m\n\u001b[0;32m    119\u001b[0m     filtered_tb \u001b[38;5;241m=\u001b[39m _process_traceback_frames(e\u001b[38;5;241m.\u001b[39m__traceback__)\n\u001b[0;32m    120\u001b[0m     \u001b[38;5;66;03m# To get the full stack trace, call:\u001b[39;00m\n\u001b[0;32m    121\u001b[0m     \u001b[38;5;66;03m# `keras.config.disable_traceback_filtering()`\u001b[39;00m\n\u001b[1;32m--> 122\u001b[0m     \u001b[38;5;28;01mraise\u001b[39;00m e\u001b[38;5;241m.\u001b[39mwith_traceback(filtered_tb) \u001b[38;5;28;01mfrom\u001b[39;00m \u001b[38;5;28;01mNone\u001b[39;00m\n\u001b[0;32m    123\u001b[0m \u001b[38;5;28;01mfinally\u001b[39;00m:\n\u001b[0;32m    124\u001b[0m     \u001b[38;5;28;01mdel\u001b[39;00m filtered_tb\n",
      "File \u001b[1;32mc:\\Users\\Rafi Kyandra\\VSCODE\\Semester 5\\Bangkit MSIB\\CapstoneGithub\\CapstoneGithubVenv\\Lib\\site-packages\\tensorflow\\python\\eager\\execute.py:53\u001b[0m, in \u001b[0;36mquick_execute\u001b[1;34m(op_name, num_outputs, inputs, attrs, ctx, name)\u001b[0m\n\u001b[0;32m     51\u001b[0m \u001b[38;5;28;01mtry\u001b[39;00m:\n\u001b[0;32m     52\u001b[0m   ctx\u001b[38;5;241m.\u001b[39mensure_initialized()\n\u001b[1;32m---> 53\u001b[0m   tensors \u001b[38;5;241m=\u001b[39m pywrap_tfe\u001b[38;5;241m.\u001b[39mTFE_Py_Execute(ctx\u001b[38;5;241m.\u001b[39m_handle, device_name, op_name,\n\u001b[0;32m     54\u001b[0m                                       inputs, attrs, num_outputs)\n\u001b[0;32m     55\u001b[0m \u001b[38;5;28;01mexcept\u001b[39;00m core\u001b[38;5;241m.\u001b[39m_NotOkStatusException \u001b[38;5;28;01mas\u001b[39;00m e:\n\u001b[0;32m     56\u001b[0m   \u001b[38;5;28;01mif\u001b[39;00m name \u001b[38;5;129;01mis\u001b[39;00m \u001b[38;5;129;01mnot\u001b[39;00m \u001b[38;5;28;01mNone\u001b[39;00m:\n",
      "\u001b[1;31mInvalidArgumentError\u001b[0m: Graph execution error:\n\nDetected at node functional_45_1/concatenate_92_1/concat defined at (most recent call last):\n  File \"<frozen runpy>\", line 198, in _run_module_as_main\n\n  File \"<frozen runpy>\", line 88, in _run_code\n\n  File \"c:\\Users\\Rafi Kyandra\\VSCODE\\Semester 5\\Bangkit MSIB\\CapstoneGithub\\CapstoneGithubVenv\\Lib\\site-packages\\ipykernel_launcher.py\", line 18, in <module>\n\n  File \"c:\\Users\\Rafi Kyandra\\VSCODE\\Semester 5\\Bangkit MSIB\\CapstoneGithub\\CapstoneGithubVenv\\Lib\\site-packages\\traitlets\\config\\application.py\", line 1075, in launch_instance\n\n  File \"c:\\Users\\Rafi Kyandra\\VSCODE\\Semester 5\\Bangkit MSIB\\CapstoneGithub\\CapstoneGithubVenv\\Lib\\site-packages\\ipykernel\\kernelapp.py\", line 739, in start\n\n  File \"c:\\Users\\Rafi Kyandra\\VSCODE\\Semester 5\\Bangkit MSIB\\CapstoneGithub\\CapstoneGithubVenv\\Lib\\site-packages\\tornado\\platform\\asyncio.py\", line 205, in start\n\n  File \"C:\\Users\\Rafi Kyandra\\AppData\\Local\\Programs\\Python\\Python311\\Lib\\asyncio\\base_events.py\", line 607, in run_forever\n\n  File \"C:\\Users\\Rafi Kyandra\\AppData\\Local\\Programs\\Python\\Python311\\Lib\\asyncio\\base_events.py\", line 1922, in _run_once\n\n  File \"C:\\Users\\Rafi Kyandra\\AppData\\Local\\Programs\\Python\\Python311\\Lib\\asyncio\\events.py\", line 80, in _run\n\n  File \"c:\\Users\\Rafi Kyandra\\VSCODE\\Semester 5\\Bangkit MSIB\\CapstoneGithub\\CapstoneGithubVenv\\Lib\\site-packages\\ipykernel\\kernelbase.py\", line 545, in dispatch_queue\n\n  File \"c:\\Users\\Rafi Kyandra\\VSCODE\\Semester 5\\Bangkit MSIB\\CapstoneGithub\\CapstoneGithubVenv\\Lib\\site-packages\\ipykernel\\kernelbase.py\", line 534, in process_one\n\n  File \"c:\\Users\\Rafi Kyandra\\VSCODE\\Semester 5\\Bangkit MSIB\\CapstoneGithub\\CapstoneGithubVenv\\Lib\\site-packages\\ipykernel\\kernelbase.py\", line 437, in dispatch_shell\n\n  File \"c:\\Users\\Rafi Kyandra\\VSCODE\\Semester 5\\Bangkit MSIB\\CapstoneGithub\\CapstoneGithubVenv\\Lib\\site-packages\\ipykernel\\ipkernel.py\", line 362, in execute_request\n\n  File \"c:\\Users\\Rafi Kyandra\\VSCODE\\Semester 5\\Bangkit MSIB\\CapstoneGithub\\CapstoneGithubVenv\\Lib\\site-packages\\ipykernel\\kernelbase.py\", line 778, in execute_request\n\n  File \"c:\\Users\\Rafi Kyandra\\VSCODE\\Semester 5\\Bangkit MSIB\\CapstoneGithub\\CapstoneGithubVenv\\Lib\\site-packages\\ipykernel\\ipkernel.py\", line 449, in do_execute\n\n  File \"c:\\Users\\Rafi Kyandra\\VSCODE\\Semester 5\\Bangkit MSIB\\CapstoneGithub\\CapstoneGithubVenv\\Lib\\site-packages\\ipykernel\\zmqshell.py\", line 549, in run_cell\n\n  File \"c:\\Users\\Rafi Kyandra\\VSCODE\\Semester 5\\Bangkit MSIB\\CapstoneGithub\\CapstoneGithubVenv\\Lib\\site-packages\\IPython\\core\\interactiveshell.py\", line 3075, in run_cell\n\n  File \"c:\\Users\\Rafi Kyandra\\VSCODE\\Semester 5\\Bangkit MSIB\\CapstoneGithub\\CapstoneGithubVenv\\Lib\\site-packages\\IPython\\core\\interactiveshell.py\", line 3130, in _run_cell\n\n  File \"c:\\Users\\Rafi Kyandra\\VSCODE\\Semester 5\\Bangkit MSIB\\CapstoneGithub\\CapstoneGithubVenv\\Lib\\site-packages\\IPython\\core\\async_helpers.py\", line 128, in _pseudo_sync_runner\n\n  File \"c:\\Users\\Rafi Kyandra\\VSCODE\\Semester 5\\Bangkit MSIB\\CapstoneGithub\\CapstoneGithubVenv\\Lib\\site-packages\\IPython\\core\\interactiveshell.py\", line 3334, in run_cell_async\n\n  File \"c:\\Users\\Rafi Kyandra\\VSCODE\\Semester 5\\Bangkit MSIB\\CapstoneGithub\\CapstoneGithubVenv\\Lib\\site-packages\\IPython\\core\\interactiveshell.py\", line 3517, in run_ast_nodes\n\n  File \"c:\\Users\\Rafi Kyandra\\VSCODE\\Semester 5\\Bangkit MSIB\\CapstoneGithub\\CapstoneGithubVenv\\Lib\\site-packages\\IPython\\core\\interactiveshell.py\", line 3577, in run_code\n\n  File \"C:\\Users\\Rafi Kyandra\\AppData\\Local\\Temp\\ipykernel_1800\\1170213151.py\", line 15, in <module>\n\n  File \"c:\\Users\\Rafi Kyandra\\VSCODE\\Semester 5\\Bangkit MSIB\\CapstoneGithub\\CapstoneGithubVenv\\Lib\\site-packages\\keras\\src\\utils\\traceback_utils.py\", line 117, in error_handler\n\n  File \"c:\\Users\\Rafi Kyandra\\VSCODE\\Semester 5\\Bangkit MSIB\\CapstoneGithub\\CapstoneGithubVenv\\Lib\\site-packages\\keras\\src\\backend\\tensorflow\\trainer.py\", line 320, in fit\n\n  File \"c:\\Users\\Rafi Kyandra\\VSCODE\\Semester 5\\Bangkit MSIB\\CapstoneGithub\\CapstoneGithubVenv\\Lib\\site-packages\\keras\\src\\backend\\tensorflow\\trainer.py\", line 121, in one_step_on_iterator\n\n  File \"c:\\Users\\Rafi Kyandra\\VSCODE\\Semester 5\\Bangkit MSIB\\CapstoneGithub\\CapstoneGithubVenv\\Lib\\site-packages\\keras\\src\\backend\\tensorflow\\trainer.py\", line 108, in one_step_on_data\n\n  File \"c:\\Users\\Rafi Kyandra\\VSCODE\\Semester 5\\Bangkit MSIB\\CapstoneGithub\\CapstoneGithubVenv\\Lib\\site-packages\\keras\\src\\backend\\tensorflow\\trainer.py\", line 51, in train_step\n\n  File \"c:\\Users\\Rafi Kyandra\\VSCODE\\Semester 5\\Bangkit MSIB\\CapstoneGithub\\CapstoneGithubVenv\\Lib\\site-packages\\keras\\src\\utils\\traceback_utils.py\", line 117, in error_handler\n\n  File \"c:\\Users\\Rafi Kyandra\\VSCODE\\Semester 5\\Bangkit MSIB\\CapstoneGithub\\CapstoneGithubVenv\\Lib\\site-packages\\keras\\src\\layers\\layer.py\", line 899, in __call__\n\n  File \"c:\\Users\\Rafi Kyandra\\VSCODE\\Semester 5\\Bangkit MSIB\\CapstoneGithub\\CapstoneGithubVenv\\Lib\\site-packages\\keras\\src\\utils\\traceback_utils.py\", line 117, in error_handler\n\n  File \"c:\\Users\\Rafi Kyandra\\VSCODE\\Semester 5\\Bangkit MSIB\\CapstoneGithub\\CapstoneGithubVenv\\Lib\\site-packages\\keras\\src\\ops\\operation.py\", line 46, in __call__\n\n  File \"c:\\Users\\Rafi Kyandra\\VSCODE\\Semester 5\\Bangkit MSIB\\CapstoneGithub\\CapstoneGithubVenv\\Lib\\site-packages\\keras\\src\\utils\\traceback_utils.py\", line 156, in error_handler\n\n  File \"c:\\Users\\Rafi Kyandra\\VSCODE\\Semester 5\\Bangkit MSIB\\CapstoneGithub\\CapstoneGithubVenv\\Lib\\site-packages\\keras\\src\\models\\functional.py\", line 182, in call\n\n  File \"c:\\Users\\Rafi Kyandra\\VSCODE\\Semester 5\\Bangkit MSIB\\CapstoneGithub\\CapstoneGithubVenv\\Lib\\site-packages\\keras\\src\\ops\\function.py\", line 171, in _run_through_graph\n\n  File \"c:\\Users\\Rafi Kyandra\\VSCODE\\Semester 5\\Bangkit MSIB\\CapstoneGithub\\CapstoneGithubVenv\\Lib\\site-packages\\keras\\src\\models\\functional.py\", line 584, in call\n\n  File \"c:\\Users\\Rafi Kyandra\\VSCODE\\Semester 5\\Bangkit MSIB\\CapstoneGithub\\CapstoneGithubVenv\\Lib\\site-packages\\keras\\src\\utils\\traceback_utils.py\", line 117, in error_handler\n\n  File \"c:\\Users\\Rafi Kyandra\\VSCODE\\Semester 5\\Bangkit MSIB\\CapstoneGithub\\CapstoneGithubVenv\\Lib\\site-packages\\keras\\src\\layers\\layer.py\", line 899, in __call__\n\n  File \"c:\\Users\\Rafi Kyandra\\VSCODE\\Semester 5\\Bangkit MSIB\\CapstoneGithub\\CapstoneGithubVenv\\Lib\\site-packages\\keras\\src\\utils\\traceback_utils.py\", line 117, in error_handler\n\n  File \"c:\\Users\\Rafi Kyandra\\VSCODE\\Semester 5\\Bangkit MSIB\\CapstoneGithub\\CapstoneGithubVenv\\Lib\\site-packages\\keras\\src\\ops\\operation.py\", line 46, in __call__\n\n  File \"c:\\Users\\Rafi Kyandra\\VSCODE\\Semester 5\\Bangkit MSIB\\CapstoneGithub\\CapstoneGithubVenv\\Lib\\site-packages\\keras\\src\\utils\\traceback_utils.py\", line 156, in error_handler\n\n  File \"c:\\Users\\Rafi Kyandra\\VSCODE\\Semester 5\\Bangkit MSIB\\CapstoneGithub\\CapstoneGithubVenv\\Lib\\site-packages\\keras\\src\\layers\\merging\\base_merge.py\", line 226, in call\n\n  File \"c:\\Users\\Rafi Kyandra\\VSCODE\\Semester 5\\Bangkit MSIB\\CapstoneGithub\\CapstoneGithubVenv\\Lib\\site-packages\\keras\\src\\layers\\merging\\concatenate.py\", line 101, in _merge_function\n\n  File \"c:\\Users\\Rafi Kyandra\\VSCODE\\Semester 5\\Bangkit MSIB\\CapstoneGithub\\CapstoneGithubVenv\\Lib\\site-packages\\keras\\src\\ops\\numpy.py\", line 1640, in concatenate\n\n  File \"c:\\Users\\Rafi Kyandra\\VSCODE\\Semester 5\\Bangkit MSIB\\CapstoneGithub\\CapstoneGithubVenv\\Lib\\site-packages\\keras\\src\\backend\\tensorflow\\numpy.py\", line 942, in concatenate\n\nConcatOp : Dimension 0 in both shapes must be equal: shape[0] = [2,394272] vs. shape[2] = [28,394272]\n\t [[{{node functional_45_1/concatenate_92_1/concat}}]] [Op:__inference_one_step_on_iterator_229997]"
     ]
    }
   ],
   "source": [
    "# Compile the model\n",
    "model.compile(\n",
    "    optimizer=Adam(learning_rate=0.0001),\n",
    "    loss={\n",
    "        \"mass_output\": \"mean_squared_error\",  # MSE for total mass prediction\n",
    "        \"macro_output\": \"mean_squared_error\",  # MSE for macro nutrient prediction\n",
    "    },\n",
    "    metrics={\n",
    "        \"mass_output\": [\"mae\"],  # MAE for total mass prediction\n",
    "        \"macro_output\": [\"mae\"],  # MAE for macro nutrient prediction\n",
    "    }\n",
    ")\n",
    "\n",
    "# Train the model\n",
    "history = model.fit(\n",
    "    train_gen, \n",
    "    epochs=50,  # Adjust the number of epochs as necessary\n",
    "    validation_data=val_gen,\n",
    "    verbose=1\n",
    ")\n",
    "\n",
    "# After training, evaluate the model on the test data\n",
    "test_loss, test_mae = model.evaluate(test_gen)\n",
    "print(f\"Test Loss: {test_loss}, Test MAE: {test_mae}\")"
   ]
  },
  {
   "cell_type": "code",
   "execution_count": 153,
   "metadata": {},
   "outputs": [
    {
     "ename": "NameError",
     "evalue": "name 'input1' is not defined",
     "output_type": "error",
     "traceback": [
      "\u001b[1;31m---------------------------------------------------------------------------\u001b[0m",
      "\u001b[1;31mNameError\u001b[0m                                 Traceback (most recent call last)",
      "Cell \u001b[1;32mIn[153], line 1\u001b[0m\n\u001b[1;32m----> 1\u001b[0m \u001b[38;5;28mprint\u001b[39m(\u001b[38;5;124m\"\u001b[39m\u001b[38;5;124mShape of input1:\u001b[39m\u001b[38;5;124m\"\u001b[39m, \u001b[43minput1\u001b[49m\u001b[38;5;241m.\u001b[39mshape)\n\u001b[0;32m      2\u001b[0m \u001b[38;5;28mprint\u001b[39m(\u001b[38;5;124m\"\u001b[39m\u001b[38;5;124mShape of input2:\u001b[39m\u001b[38;5;124m\"\u001b[39m, input2\u001b[38;5;241m.\u001b[39mshape)\n",
      "\u001b[1;31mNameError\u001b[0m: name 'input1' is not defined"
     ]
    }
   ],
   "source": [
    "print(\"Shape of input1:\", input1.shape)\n",
    "print(\"Shape of input2:\", input2.shape)\n"
   ]
  }
 ],
 "metadata": {
  "kernelspec": {
   "display_name": "CapstoneGithubVenv",
   "language": "python",
   "name": "python3"
  },
  "language_info": {
   "codemirror_mode": {
    "name": "ipython",
    "version": 3
   },
   "file_extension": ".py",
   "mimetype": "text/x-python",
   "name": "python",
   "nbconvert_exporter": "python",
   "pygments_lexer": "ipython3",
   "version": "3.11.2"
  }
 },
 "nbformat": 4,
 "nbformat_minor": 2
}
