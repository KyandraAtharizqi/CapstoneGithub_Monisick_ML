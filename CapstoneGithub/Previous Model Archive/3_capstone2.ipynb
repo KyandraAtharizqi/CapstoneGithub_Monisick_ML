{
 "cells": [
  {
   "cell_type": "code",
   "execution_count": 1,
   "metadata": {},
   "outputs": [],
   "source": [
    "import os\n",
    "import pandas as pd\n",
    "import numpy as np\n",
    "import tensorflow as tf\n",
    "import keras\n",
    "\n",
    "from keras import Model\n",
    "from keras import layers\n",
    "from sklearn.model_selection import train_test_split\n",
    "from PIL import Image\n",
    "import random\n",
    "\n"
   ]
  },
  {
   "cell_type": "code",
   "execution_count": 2,
   "metadata": {},
   "outputs": [],
   "source": [
    "# Paths\n",
    "BASE_DIR = r'C:\\Users\\Rafi Kyandra\\VSCODE\\Semester 5\\Bangkit MSIB\\Capstone'\n",
    "IMAGES_DIR = os.path.join(BASE_DIR, 'nutrition5k', 'images', 'theframes')\n",
    "CSV_PATH = os.path.join(BASE_DIR, 'nutrition5k', 'metadata', '3_dishmetadata_weightonly_theframes_nosingular.csv')\n",
    "INGREDIENT_METADATA = os.path.join(BASE_DIR, 'nutrition5k', 'metadata', '3_ingredientmetadata_theframes_cleaned.csv')\n",
    "\n"
   ]
  },
  {
   "cell_type": "code",
   "execution_count": 3,
   "metadata": {},
   "outputs": [],
   "source": [
    "# Load the ingredient metadata\n",
    "ingredient_metadata = pd.read_csv(INGREDIENT_METADATA)\n",
    "ingredient_id_map = {row['id']: row['ingr'] for _, row in ingredient_metadata.iterrows()}\n",
    "\n",
    "# Load dish metadata\n",
    "dish_metadata = pd.read_csv(CSV_PATH, header=None)\n"
   ]
  },
  {
   "cell_type": "code",
   "execution_count": 4,
   "metadata": {},
   "outputs": [],
   "source": [
    "def load_images(dish_id, image_dir, target_size=(224, 224)):\n",
    "    \"\"\"\n",
    "    Load all images for a given dish_id, resize them, and return as a numpy array.\n",
    "    Handles nested folder structure and inconsistent naming conventions for JPEGs.\n",
    "    \"\"\"\n",
    "    # Path to the frames_sampled30 folder\n",
    "    dish_folder = os.path.join(image_dir, str(dish_id), 'frames_sampled30')\n",
    "    \n",
    "    if not os.path.exists(dish_folder):\n",
    "        print(f\"Warning: Directory not found for dish ID {dish_id}. Skipping.\")\n",
    "        return []  # Return an empty list if the folder doesn't exist\n",
    "    \n",
    "    images = []\n",
    "    for file in os.listdir(dish_folder):\n",
    "        if file.lower().endswith('.jpeg'):  # Case-insensitive check for .jpeg files\n",
    "            img_path = os.path.join(dish_folder, file)\n",
    "            try:\n",
    "                img = Image.open(img_path).convert('RGB').resize(target_size)\n",
    "                images.append(np.array(img))\n",
    "            except Exception as e:\n",
    "                print(f\"Error loading image {img_path}: {e}\")\n",
    "    return images"
   ]
  },
  {
   "cell_type": "code",
   "execution_count": 5,
   "metadata": {},
   "outputs": [],
   "source": [
    "def load_images(dish_id, image_dir, target_size=(224, 224)):\n",
    "    \"\"\"\n",
    "    Load all images for a given dish_id, resize them, and return as a numpy array.\n",
    "    \"\"\"\n",
    "    dish_folder = os.path.join(image_dir, f'{dish_id}', 'frames_sampled30')\n",
    "    images = []\n",
    "    for file in os.listdir(dish_folder):\n",
    "        if file.endswith('.jpeg'):\n",
    "            img_path = os.path.join(dish_folder, file)\n",
    "            img = Image.open(img_path).convert('RGB').resize(target_size)\n",
    "            images.append(np.array(img))\n",
    "    return np.array(images)"
   ]
  },
  {
   "cell_type": "code",
   "execution_count": 7,
   "metadata": {},
   "outputs": [],
   "source": [
    "def split_dataset(dish_metadata, image_dir):\n",
    "    # Lists to hold images and corresponding labels/weights\n",
    "    train_images = []\n",
    "    train_labels = []\n",
    "    train_weights = []\n",
    "    val_images = []\n",
    "    val_labels = []\n",
    "    val_weights = []\n",
    "    test_images = []\n",
    "    test_labels = []\n",
    "    test_weights = []\n",
    "\n",
    "    max_ingredients = 26  # Max ingredients per dish\n",
    "    num_classes = 246  # Total possible ingredients\n",
    "\n",
    "    for idx, (_, row) in enumerate(dish_metadata.iterrows()):\n",
    "        dish_id = str(row[0])\n",
    "        images = load_images(dish_id, image_dir)\n",
    "        if images is None or len(images) == 0:\n",
    "            continue  # Skip if no images were loaded\n",
    "        \n",
    "        images = np.array(images)\n",
    "        np.random.shuffle(images)\n",
    "\n",
    "        # Split the images into test, validation, and training\n",
    "        test_image = images[0]  # First image for testing\n",
    "        val_images_from_dish = images[1:3]  # Two random images for validation\n",
    "        train_images_from_dish = images[3:]  # Remaining images for training\n",
    "\n",
    "        # Add to corresponding sets\n",
    "        test_images.append(test_image)\n",
    "        val_images.extend(val_images_from_dish)\n",
    "        train_images.extend(train_images_from_dish)\n",
    "\n",
    "        # Prepare labels and weights for the ingredients in the dish\n",
    "        ingredient_ids, weights = [], []\n",
    "        for i in range(2, len(row), 3):\n",
    "            if pd.isna(row[i]):\n",
    "                break\n",
    "            ing_id = int(row[i]) - 1  # Adjusting for zero-indexing\n",
    "            if ing_id < num_classes:  # Ensure valid ingredient ID\n",
    "                ingredient_ids.append(ing_id)\n",
    "                weights.append(float(row[i + 2]))\n",
    "\n",
    "        # Pad or truncate ingredient IDs and weights\n",
    "        while len(ingredient_ids) < max_ingredients:\n",
    "            ingredient_ids.append(0)  # Padding with 0\n",
    "        ingredient_ids = ingredient_ids[:max_ingredients]\n",
    "\n",
    "        while len(weights) < max_ingredients:\n",
    "            weights.append(0.0)  # Padding with 0.0\n",
    "        weights = weights[:max_ingredients]\n",
    "\n",
    "        label = keras.utils.to_categorical(ingredient_ids, num_classes=num_classes)\n",
    "\n",
    "        # Add labels and weights to training, validation, and test sets\n",
    "        train_labels.extend([label] * len(train_images_from_dish))\n",
    "        train_weights.extend([weights] * len(train_images_from_dish))\n",
    "        val_labels.extend([label] * len(val_images_from_dish))\n",
    "        val_weights.extend([weights] * len(val_images_from_dish))\n",
    "        test_labels.append(label)\n",
    "        test_weights.append(weights)\n",
    "\n",
    "    # Convert to NumPy arrays\n",
    "    X_train = np.array(train_images)\n",
    "    Y_train_class = np.array(train_labels)\n",
    "    Y_train_weight = np.array(train_weights)\n",
    "    X_val = np.array(val_images)\n",
    "    Y_val_class = np.array(val_labels)\n",
    "    Y_val_weight = np.array(val_weights)\n",
    "    X_test = np.array(test_images)\n",
    "    Y_test_class = np.array(test_labels)\n",
    "    Y_test_weight = np.array(test_weights)\n",
    "\n",
    "    return X_train, Y_train_class, Y_train_weight, X_val, Y_val_class, Y_val_weight, X_test, Y_test_class, Y_test_weight\n"
   ]
  },
  {
   "cell_type": "code",
   "execution_count": 8,
   "metadata": {},
   "outputs": [
    {
     "name": "stdout",
     "output_type": "stream",
     "text": [
      "Train set: X=(40627, 224, 224, 3), Y_class=(40627, 26, 246), Y_weight=(40627, 26)\n",
      "Validation set: X=(9432, 224, 224, 3), Y_class=(9432, 26, 246), Y_weight=(9432, 26)\n",
      "Test set: X=(4794, 224, 224, 3), Y_class=(4794, 26, 246), Y_weight=(4794, 26)\n"
     ]
    }
   ],
   "source": [
    "# Example usage\n",
    "X_train, Y_train_class, Y_train_weight, X_val, Y_val_class, Y_val_weight, X_test, Y_test_class, Y_test_weight = split_dataset(dish_metadata, IMAGES_DIR)\n",
    "\n",
    "print(f\"Train set: X={X_train.shape}, Y_class={Y_train_class.shape}, Y_weight={Y_train_weight.shape}\")\n",
    "print(f\"Validation set: X={X_val.shape}, Y_class={Y_val_class.shape}, Y_weight={Y_val_weight.shape}\")\n",
    "print(f\"Test set: X={X_test.shape}, Y_class={Y_test_class.shape}, Y_weight={Y_test_weight.shape}\")"
   ]
  },
  {
   "cell_type": "code",
   "execution_count": 9,
   "metadata": {},
   "outputs": [],
   "source": [
    "def normalize_in_batches(data, batch_size=1000):\n",
    "    for start in range(0, len(data), batch_size):\n",
    "        end = start + batch_size\n",
    "        data[start:end] = data[start:end] / 255.0\n",
    "    return data\n",
    "\n",
    "X_train = normalize_in_batches(X_train)\n",
    "X_val = normalize_in_batches(X_val)\n",
    "X_test = normalize_in_batches(X_test)\n"
   ]
  },
  {
   "cell_type": "code",
   "execution_count": 10,
   "metadata": {},
   "outputs": [],
   "source": [
    "import numpy as np\n",
    "\n",
    "assert not np.any(np.isnan(X_train)), \"NaN detected in X_train\"\n",
    "assert not np.any(np.isnan(Y_train_class)), \"NaN detected in Y_train_class\"\n",
    "assert not np.any(np.isnan(Y_train_weight)), \"NaN detected in Y_train_weight\"\n"
   ]
  },
  {
   "cell_type": "code",
   "execution_count": 43,
   "metadata": {},
   "outputs": [
    {
     "data": {
      "text/html": [
       "<pre style=\"white-space:pre;overflow-x:auto;line-height:normal;font-family:Menlo,'DejaVu Sans Mono',consolas,'Courier New',monospace\"><span style=\"font-weight: bold\">Model: \"functional_1\"</span>\n",
       "</pre>\n"
      ],
      "text/plain": [
       "\u001b[1mModel: \"functional_1\"\u001b[0m\n"
      ]
     },
     "metadata": {},
     "output_type": "display_data"
    },
    {
     "data": {
      "text/html": [
       "<pre style=\"white-space:pre;overflow-x:auto;line-height:normal;font-family:Menlo,'DejaVu Sans Mono',consolas,'Courier New',monospace\">┏━━━━━━━━━━━━━━━━━━━━━┳━━━━━━━━━━━━━━━━━━━┳━━━━━━━━━━━━┳━━━━━━━━━━━━━━━━━━━┓\n",
       "┃<span style=\"font-weight: bold\"> Layer (type)        </span>┃<span style=\"font-weight: bold\"> Output Shape      </span>┃<span style=\"font-weight: bold\">    Param # </span>┃<span style=\"font-weight: bold\"> Connected to      </span>┃\n",
       "┡━━━━━━━━━━━━━━━━━━━━━╇━━━━━━━━━━━━━━━━━━━╇━━━━━━━━━━━━╇━━━━━━━━━━━━━━━━━━━┩\n",
       "│ input_layer_6       │ (<span style=\"color: #00d7ff; text-decoration-color: #00d7ff\">None</span>, <span style=\"color: #00af00; text-decoration-color: #00af00\">224</span>, <span style=\"color: #00af00; text-decoration-color: #00af00\">224</span>,  │          <span style=\"color: #00af00; text-decoration-color: #00af00\">0</span> │ -                 │\n",
       "│ (<span style=\"color: #0087ff; text-decoration-color: #0087ff\">InputLayer</span>)        │ <span style=\"color: #00af00; text-decoration-color: #00af00\">3</span>)                │            │                   │\n",
       "├─────────────────────┼───────────────────┼────────────┼───────────────────┤\n",
       "│ conv2d_18 (<span style=\"color: #0087ff; text-decoration-color: #0087ff\">Conv2D</span>)  │ (<span style=\"color: #00d7ff; text-decoration-color: #00d7ff\">None</span>, <span style=\"color: #00af00; text-decoration-color: #00af00\">224</span>, <span style=\"color: #00af00; text-decoration-color: #00af00\">224</span>,  │        <span style=\"color: #00af00; text-decoration-color: #00af00\">896</span> │ input_layer_6[<span style=\"color: #00af00; text-decoration-color: #00af00\">0</span>]… │\n",
       "│                     │ <span style=\"color: #00af00; text-decoration-color: #00af00\">32</span>)               │            │                   │\n",
       "├─────────────────────┼───────────────────┼────────────┼───────────────────┤\n",
       "│ max_pooling2d_18    │ (<span style=\"color: #00d7ff; text-decoration-color: #00d7ff\">None</span>, <span style=\"color: #00af00; text-decoration-color: #00af00\">112</span>, <span style=\"color: #00af00; text-decoration-color: #00af00\">112</span>,  │          <span style=\"color: #00af00; text-decoration-color: #00af00\">0</span> │ conv2d_18[<span style=\"color: #00af00; text-decoration-color: #00af00\">0</span>][<span style=\"color: #00af00; text-decoration-color: #00af00\">0</span>]   │\n",
       "│ (<span style=\"color: #0087ff; text-decoration-color: #0087ff\">MaxPooling2D</span>)      │ <span style=\"color: #00af00; text-decoration-color: #00af00\">32</span>)               │            │                   │\n",
       "├─────────────────────┼───────────────────┼────────────┼───────────────────┤\n",
       "│ batch_normalizatio… │ (<span style=\"color: #00d7ff; text-decoration-color: #00d7ff\">None</span>, <span style=\"color: #00af00; text-decoration-color: #00af00\">112</span>, <span style=\"color: #00af00; text-decoration-color: #00af00\">112</span>,  │        <span style=\"color: #00af00; text-decoration-color: #00af00\">128</span> │ max_pooling2d_18… │\n",
       "│ (<span style=\"color: #0087ff; text-decoration-color: #0087ff\">BatchNormalizatio…</span> │ <span style=\"color: #00af00; text-decoration-color: #00af00\">32</span>)               │            │                   │\n",
       "├─────────────────────┼───────────────────┼────────────┼───────────────────┤\n",
       "│ conv2d_19 (<span style=\"color: #0087ff; text-decoration-color: #0087ff\">Conv2D</span>)  │ (<span style=\"color: #00d7ff; text-decoration-color: #00d7ff\">None</span>, <span style=\"color: #00af00; text-decoration-color: #00af00\">112</span>, <span style=\"color: #00af00; text-decoration-color: #00af00\">112</span>,  │     <span style=\"color: #00af00; text-decoration-color: #00af00\">18,496</span> │ batch_normalizat… │\n",
       "│                     │ <span style=\"color: #00af00; text-decoration-color: #00af00\">64</span>)               │            │                   │\n",
       "├─────────────────────┼───────────────────┼────────────┼───────────────────┤\n",
       "│ max_pooling2d_19    │ (<span style=\"color: #00d7ff; text-decoration-color: #00d7ff\">None</span>, <span style=\"color: #00af00; text-decoration-color: #00af00\">56</span>, <span style=\"color: #00af00; text-decoration-color: #00af00\">56</span>,    │          <span style=\"color: #00af00; text-decoration-color: #00af00\">0</span> │ conv2d_19[<span style=\"color: #00af00; text-decoration-color: #00af00\">0</span>][<span style=\"color: #00af00; text-decoration-color: #00af00\">0</span>]   │\n",
       "│ (<span style=\"color: #0087ff; text-decoration-color: #0087ff\">MaxPooling2D</span>)      │ <span style=\"color: #00af00; text-decoration-color: #00af00\">64</span>)               │            │                   │\n",
       "├─────────────────────┼───────────────────┼────────────┼───────────────────┤\n",
       "│ batch_normalizatio… │ (<span style=\"color: #00d7ff; text-decoration-color: #00d7ff\">None</span>, <span style=\"color: #00af00; text-decoration-color: #00af00\">56</span>, <span style=\"color: #00af00; text-decoration-color: #00af00\">56</span>,    │        <span style=\"color: #00af00; text-decoration-color: #00af00\">256</span> │ max_pooling2d_19… │\n",
       "│ (<span style=\"color: #0087ff; text-decoration-color: #0087ff\">BatchNormalizatio…</span> │ <span style=\"color: #00af00; text-decoration-color: #00af00\">64</span>)               │            │                   │\n",
       "├─────────────────────┼───────────────────┼────────────┼───────────────────┤\n",
       "│ conv2d_20 (<span style=\"color: #0087ff; text-decoration-color: #0087ff\">Conv2D</span>)  │ (<span style=\"color: #00d7ff; text-decoration-color: #00d7ff\">None</span>, <span style=\"color: #00af00; text-decoration-color: #00af00\">56</span>, <span style=\"color: #00af00; text-decoration-color: #00af00\">56</span>,    │     <span style=\"color: #00af00; text-decoration-color: #00af00\">73,856</span> │ batch_normalizat… │\n",
       "│                     │ <span style=\"color: #00af00; text-decoration-color: #00af00\">128</span>)              │            │                   │\n",
       "├─────────────────────┼───────────────────┼────────────┼───────────────────┤\n",
       "│ max_pooling2d_20    │ (<span style=\"color: #00d7ff; text-decoration-color: #00d7ff\">None</span>, <span style=\"color: #00af00; text-decoration-color: #00af00\">28</span>, <span style=\"color: #00af00; text-decoration-color: #00af00\">28</span>,    │          <span style=\"color: #00af00; text-decoration-color: #00af00\">0</span> │ conv2d_20[<span style=\"color: #00af00; text-decoration-color: #00af00\">0</span>][<span style=\"color: #00af00; text-decoration-color: #00af00\">0</span>]   │\n",
       "│ (<span style=\"color: #0087ff; text-decoration-color: #0087ff\">MaxPooling2D</span>)      │ <span style=\"color: #00af00; text-decoration-color: #00af00\">128</span>)              │            │                   │\n",
       "├─────────────────────┼───────────────────┼────────────┼───────────────────┤\n",
       "│ batch_normalizatio… │ (<span style=\"color: #00d7ff; text-decoration-color: #00d7ff\">None</span>, <span style=\"color: #00af00; text-decoration-color: #00af00\">28</span>, <span style=\"color: #00af00; text-decoration-color: #00af00\">28</span>,    │        <span style=\"color: #00af00; text-decoration-color: #00af00\">512</span> │ max_pooling2d_20… │\n",
       "│ (<span style=\"color: #0087ff; text-decoration-color: #0087ff\">BatchNormalizatio…</span> │ <span style=\"color: #00af00; text-decoration-color: #00af00\">128</span>)              │            │                   │\n",
       "├─────────────────────┼───────────────────┼────────────┼───────────────────┤\n",
       "│ global_average_poo… │ (<span style=\"color: #00d7ff; text-decoration-color: #00d7ff\">None</span>, <span style=\"color: #00af00; text-decoration-color: #00af00\">128</span>)       │          <span style=\"color: #00af00; text-decoration-color: #00af00\">0</span> │ batch_normalizat… │\n",
       "│ (<span style=\"color: #0087ff; text-decoration-color: #0087ff\">GlobalAveragePool…</span> │                   │            │                   │\n",
       "├─────────────────────┼───────────────────┼────────────┼───────────────────┤\n",
       "│ dense_12 (<span style=\"color: #0087ff; text-decoration-color: #0087ff\">Dense</span>)    │ (<span style=\"color: #00d7ff; text-decoration-color: #00d7ff\">None</span>, <span style=\"color: #00af00; text-decoration-color: #00af00\">256</span>)       │     <span style=\"color: #00af00; text-decoration-color: #00af00\">33,024</span> │ global_average_p… │\n",
       "├─────────────────────┼───────────────────┼────────────┼───────────────────┤\n",
       "│ dropout_6 (<span style=\"color: #0087ff; text-decoration-color: #0087ff\">Dropout</span>) │ (<span style=\"color: #00d7ff; text-decoration-color: #00d7ff\">None</span>, <span style=\"color: #00af00; text-decoration-color: #00af00\">256</span>)       │          <span style=\"color: #00af00; text-decoration-color: #00af00\">0</span> │ dense_12[<span style=\"color: #00af00; text-decoration-color: #00af00\">0</span>][<span style=\"color: #00af00; text-decoration-color: #00af00\">0</span>]    │\n",
       "├─────────────────────┼───────────────────┼────────────┼───────────────────┤\n",
       "│ dense_13 (<span style=\"color: #0087ff; text-decoration-color: #0087ff\">Dense</span>)    │ (<span style=\"color: #00d7ff; text-decoration-color: #00d7ff\">None</span>, <span style=\"color: #00af00; text-decoration-color: #00af00\">6396</span>)      │  <span style=\"color: #00af00; text-decoration-color: #00af00\">1,643,772</span> │ dropout_6[<span style=\"color: #00af00; text-decoration-color: #00af00\">0</span>][<span style=\"color: #00af00; text-decoration-color: #00af00\">0</span>]   │\n",
       "├─────────────────────┼───────────────────┼────────────┼───────────────────┤\n",
       "│ reshape_6 (<span style=\"color: #0087ff; text-decoration-color: #0087ff\">Reshape</span>) │ (<span style=\"color: #00d7ff; text-decoration-color: #00d7ff\">None</span>, <span style=\"color: #00af00; text-decoration-color: #00af00\">26</span>, <span style=\"color: #00af00; text-decoration-color: #00af00\">246</span>)   │          <span style=\"color: #00af00; text-decoration-color: #00af00\">0</span> │ dense_13[<span style=\"color: #00af00; text-decoration-color: #00af00\">0</span>][<span style=\"color: #00af00; text-decoration-color: #00af00\">0</span>]    │\n",
       "├─────────────────────┼───────────────────┼────────────┼───────────────────┤\n",
       "│ lambda_6 (<span style=\"color: #0087ff; text-decoration-color: #0087ff\">Lambda</span>)   │ (<span style=\"color: #00d7ff; text-decoration-color: #00d7ff\">None</span>, <span style=\"color: #00af00; text-decoration-color: #00af00\">26</span>, <span style=\"color: #00af00; text-decoration-color: #00af00\">246</span>)   │          <span style=\"color: #00af00; text-decoration-color: #00af00\">0</span> │ reshape_6[<span style=\"color: #00af00; text-decoration-color: #00af00\">0</span>][<span style=\"color: #00af00; text-decoration-color: #00af00\">0</span>]   │\n",
       "├─────────────────────┼───────────────────┼────────────┼───────────────────┤\n",
       "│ class_output        │ (<span style=\"color: #00d7ff; text-decoration-color: #00d7ff\">None</span>, <span style=\"color: #00af00; text-decoration-color: #00af00\">26</span>, <span style=\"color: #00af00; text-decoration-color: #00af00\">246</span>)   │          <span style=\"color: #00af00; text-decoration-color: #00af00\">0</span> │ lambda_6[<span style=\"color: #00af00; text-decoration-color: #00af00\">0</span>][<span style=\"color: #00af00; text-decoration-color: #00af00\">0</span>]    │\n",
       "│ (<span style=\"color: #0087ff; text-decoration-color: #0087ff\">Softmax</span>)           │                   │            │                   │\n",
       "├─────────────────────┼───────────────────┼────────────┼───────────────────┤\n",
       "│ regression_output   │ (<span style=\"color: #00d7ff; text-decoration-color: #00d7ff\">None</span>, <span style=\"color: #00af00; text-decoration-color: #00af00\">26</span>)        │      <span style=\"color: #00af00; text-decoration-color: #00af00\">6,682</span> │ dropout_6[<span style=\"color: #00af00; text-decoration-color: #00af00\">0</span>][<span style=\"color: #00af00; text-decoration-color: #00af00\">0</span>]   │\n",
       "│ (<span style=\"color: #0087ff; text-decoration-color: #0087ff\">Dense</span>)             │                   │            │                   │\n",
       "└─────────────────────┴───────────────────┴────────────┴───────────────────┘\n",
       "</pre>\n"
      ],
      "text/plain": [
       "┏━━━━━━━━━━━━━━━━━━━━━┳━━━━━━━━━━━━━━━━━━━┳━━━━━━━━━━━━┳━━━━━━━━━━━━━━━━━━━┓\n",
       "┃\u001b[1m \u001b[0m\u001b[1mLayer (type)       \u001b[0m\u001b[1m \u001b[0m┃\u001b[1m \u001b[0m\u001b[1mOutput Shape     \u001b[0m\u001b[1m \u001b[0m┃\u001b[1m \u001b[0m\u001b[1m   Param #\u001b[0m\u001b[1m \u001b[0m┃\u001b[1m \u001b[0m\u001b[1mConnected to     \u001b[0m\u001b[1m \u001b[0m┃\n",
       "┡━━━━━━━━━━━━━━━━━━━━━╇━━━━━━━━━━━━━━━━━━━╇━━━━━━━━━━━━╇━━━━━━━━━━━━━━━━━━━┩\n",
       "│ input_layer_6       │ (\u001b[38;5;45mNone\u001b[0m, \u001b[38;5;34m224\u001b[0m, \u001b[38;5;34m224\u001b[0m,  │          \u001b[38;5;34m0\u001b[0m │ -                 │\n",
       "│ (\u001b[38;5;33mInputLayer\u001b[0m)        │ \u001b[38;5;34m3\u001b[0m)                │            │                   │\n",
       "├─────────────────────┼───────────────────┼────────────┼───────────────────┤\n",
       "│ conv2d_18 (\u001b[38;5;33mConv2D\u001b[0m)  │ (\u001b[38;5;45mNone\u001b[0m, \u001b[38;5;34m224\u001b[0m, \u001b[38;5;34m224\u001b[0m,  │        \u001b[38;5;34m896\u001b[0m │ input_layer_6[\u001b[38;5;34m0\u001b[0m]… │\n",
       "│                     │ \u001b[38;5;34m32\u001b[0m)               │            │                   │\n",
       "├─────────────────────┼───────────────────┼────────────┼───────────────────┤\n",
       "│ max_pooling2d_18    │ (\u001b[38;5;45mNone\u001b[0m, \u001b[38;5;34m112\u001b[0m, \u001b[38;5;34m112\u001b[0m,  │          \u001b[38;5;34m0\u001b[0m │ conv2d_18[\u001b[38;5;34m0\u001b[0m][\u001b[38;5;34m0\u001b[0m]   │\n",
       "│ (\u001b[38;5;33mMaxPooling2D\u001b[0m)      │ \u001b[38;5;34m32\u001b[0m)               │            │                   │\n",
       "├─────────────────────┼───────────────────┼────────────┼───────────────────┤\n",
       "│ batch_normalizatio… │ (\u001b[38;5;45mNone\u001b[0m, \u001b[38;5;34m112\u001b[0m, \u001b[38;5;34m112\u001b[0m,  │        \u001b[38;5;34m128\u001b[0m │ max_pooling2d_18… │\n",
       "│ (\u001b[38;5;33mBatchNormalizatio…\u001b[0m │ \u001b[38;5;34m32\u001b[0m)               │            │                   │\n",
       "├─────────────────────┼───────────────────┼────────────┼───────────────────┤\n",
       "│ conv2d_19 (\u001b[38;5;33mConv2D\u001b[0m)  │ (\u001b[38;5;45mNone\u001b[0m, \u001b[38;5;34m112\u001b[0m, \u001b[38;5;34m112\u001b[0m,  │     \u001b[38;5;34m18,496\u001b[0m │ batch_normalizat… │\n",
       "│                     │ \u001b[38;5;34m64\u001b[0m)               │            │                   │\n",
       "├─────────────────────┼───────────────────┼────────────┼───────────────────┤\n",
       "│ max_pooling2d_19    │ (\u001b[38;5;45mNone\u001b[0m, \u001b[38;5;34m56\u001b[0m, \u001b[38;5;34m56\u001b[0m,    │          \u001b[38;5;34m0\u001b[0m │ conv2d_19[\u001b[38;5;34m0\u001b[0m][\u001b[38;5;34m0\u001b[0m]   │\n",
       "│ (\u001b[38;5;33mMaxPooling2D\u001b[0m)      │ \u001b[38;5;34m64\u001b[0m)               │            │                   │\n",
       "├─────────────────────┼───────────────────┼────────────┼───────────────────┤\n",
       "│ batch_normalizatio… │ (\u001b[38;5;45mNone\u001b[0m, \u001b[38;5;34m56\u001b[0m, \u001b[38;5;34m56\u001b[0m,    │        \u001b[38;5;34m256\u001b[0m │ max_pooling2d_19… │\n",
       "│ (\u001b[38;5;33mBatchNormalizatio…\u001b[0m │ \u001b[38;5;34m64\u001b[0m)               │            │                   │\n",
       "├─────────────────────┼───────────────────┼────────────┼───────────────────┤\n",
       "│ conv2d_20 (\u001b[38;5;33mConv2D\u001b[0m)  │ (\u001b[38;5;45mNone\u001b[0m, \u001b[38;5;34m56\u001b[0m, \u001b[38;5;34m56\u001b[0m,    │     \u001b[38;5;34m73,856\u001b[0m │ batch_normalizat… │\n",
       "│                     │ \u001b[38;5;34m128\u001b[0m)              │            │                   │\n",
       "├─────────────────────┼───────────────────┼────────────┼───────────────────┤\n",
       "│ max_pooling2d_20    │ (\u001b[38;5;45mNone\u001b[0m, \u001b[38;5;34m28\u001b[0m, \u001b[38;5;34m28\u001b[0m,    │          \u001b[38;5;34m0\u001b[0m │ conv2d_20[\u001b[38;5;34m0\u001b[0m][\u001b[38;5;34m0\u001b[0m]   │\n",
       "│ (\u001b[38;5;33mMaxPooling2D\u001b[0m)      │ \u001b[38;5;34m128\u001b[0m)              │            │                   │\n",
       "├─────────────────────┼───────────────────┼────────────┼───────────────────┤\n",
       "│ batch_normalizatio… │ (\u001b[38;5;45mNone\u001b[0m, \u001b[38;5;34m28\u001b[0m, \u001b[38;5;34m28\u001b[0m,    │        \u001b[38;5;34m512\u001b[0m │ max_pooling2d_20… │\n",
       "│ (\u001b[38;5;33mBatchNormalizatio…\u001b[0m │ \u001b[38;5;34m128\u001b[0m)              │            │                   │\n",
       "├─────────────────────┼───────────────────┼────────────┼───────────────────┤\n",
       "│ global_average_poo… │ (\u001b[38;5;45mNone\u001b[0m, \u001b[38;5;34m128\u001b[0m)       │          \u001b[38;5;34m0\u001b[0m │ batch_normalizat… │\n",
       "│ (\u001b[38;5;33mGlobalAveragePool…\u001b[0m │                   │            │                   │\n",
       "├─────────────────────┼───────────────────┼────────────┼───────────────────┤\n",
       "│ dense_12 (\u001b[38;5;33mDense\u001b[0m)    │ (\u001b[38;5;45mNone\u001b[0m, \u001b[38;5;34m256\u001b[0m)       │     \u001b[38;5;34m33,024\u001b[0m │ global_average_p… │\n",
       "├─────────────────────┼───────────────────┼────────────┼───────────────────┤\n",
       "│ dropout_6 (\u001b[38;5;33mDropout\u001b[0m) │ (\u001b[38;5;45mNone\u001b[0m, \u001b[38;5;34m256\u001b[0m)       │          \u001b[38;5;34m0\u001b[0m │ dense_12[\u001b[38;5;34m0\u001b[0m][\u001b[38;5;34m0\u001b[0m]    │\n",
       "├─────────────────────┼───────────────────┼────────────┼───────────────────┤\n",
       "│ dense_13 (\u001b[38;5;33mDense\u001b[0m)    │ (\u001b[38;5;45mNone\u001b[0m, \u001b[38;5;34m6396\u001b[0m)      │  \u001b[38;5;34m1,643,772\u001b[0m │ dropout_6[\u001b[38;5;34m0\u001b[0m][\u001b[38;5;34m0\u001b[0m]   │\n",
       "├─────────────────────┼───────────────────┼────────────┼───────────────────┤\n",
       "│ reshape_6 (\u001b[38;5;33mReshape\u001b[0m) │ (\u001b[38;5;45mNone\u001b[0m, \u001b[38;5;34m26\u001b[0m, \u001b[38;5;34m246\u001b[0m)   │          \u001b[38;5;34m0\u001b[0m │ dense_13[\u001b[38;5;34m0\u001b[0m][\u001b[38;5;34m0\u001b[0m]    │\n",
       "├─────────────────────┼───────────────────┼────────────┼───────────────────┤\n",
       "│ lambda_6 (\u001b[38;5;33mLambda\u001b[0m)   │ (\u001b[38;5;45mNone\u001b[0m, \u001b[38;5;34m26\u001b[0m, \u001b[38;5;34m246\u001b[0m)   │          \u001b[38;5;34m0\u001b[0m │ reshape_6[\u001b[38;5;34m0\u001b[0m][\u001b[38;5;34m0\u001b[0m]   │\n",
       "├─────────────────────┼───────────────────┼────────────┼───────────────────┤\n",
       "│ class_output        │ (\u001b[38;5;45mNone\u001b[0m, \u001b[38;5;34m26\u001b[0m, \u001b[38;5;34m246\u001b[0m)   │          \u001b[38;5;34m0\u001b[0m │ lambda_6[\u001b[38;5;34m0\u001b[0m][\u001b[38;5;34m0\u001b[0m]    │\n",
       "│ (\u001b[38;5;33mSoftmax\u001b[0m)           │                   │            │                   │\n",
       "├─────────────────────┼───────────────────┼────────────┼───────────────────┤\n",
       "│ regression_output   │ (\u001b[38;5;45mNone\u001b[0m, \u001b[38;5;34m26\u001b[0m)        │      \u001b[38;5;34m6,682\u001b[0m │ dropout_6[\u001b[38;5;34m0\u001b[0m][\u001b[38;5;34m0\u001b[0m]   │\n",
       "│ (\u001b[38;5;33mDense\u001b[0m)             │                   │            │                   │\n",
       "└─────────────────────┴───────────────────┴────────────┴───────────────────┘\n"
      ]
     },
     "metadata": {},
     "output_type": "display_data"
    },
    {
     "data": {
      "text/html": [
       "<pre style=\"white-space:pre;overflow-x:auto;line-height:normal;font-family:Menlo,'DejaVu Sans Mono',consolas,'Courier New',monospace\"><span style=\"font-weight: bold\"> Total params: </span><span style=\"color: #00af00; text-decoration-color: #00af00\">1,777,622</span> (6.78 MB)\n",
       "</pre>\n"
      ],
      "text/plain": [
       "\u001b[1m Total params: \u001b[0m\u001b[38;5;34m1,777,622\u001b[0m (6.78 MB)\n"
      ]
     },
     "metadata": {},
     "output_type": "display_data"
    },
    {
     "data": {
      "text/html": [
       "<pre style=\"white-space:pre;overflow-x:auto;line-height:normal;font-family:Menlo,'DejaVu Sans Mono',consolas,'Courier New',monospace\"><span style=\"font-weight: bold\"> Trainable params: </span><span style=\"color: #00af00; text-decoration-color: #00af00\">1,777,174</span> (6.78 MB)\n",
       "</pre>\n"
      ],
      "text/plain": [
       "\u001b[1m Trainable params: \u001b[0m\u001b[38;5;34m1,777,174\u001b[0m (6.78 MB)\n"
      ]
     },
     "metadata": {},
     "output_type": "display_data"
    },
    {
     "data": {
      "text/html": [
       "<pre style=\"white-space:pre;overflow-x:auto;line-height:normal;font-family:Menlo,'DejaVu Sans Mono',consolas,'Courier New',monospace\"><span style=\"font-weight: bold\"> Non-trainable params: </span><span style=\"color: #00af00; text-decoration-color: #00af00\">448</span> (1.75 KB)\n",
       "</pre>\n"
      ],
      "text/plain": [
       "\u001b[1m Non-trainable params: \u001b[0m\u001b[38;5;34m448\u001b[0m (1.75 KB)\n"
      ]
     },
     "metadata": {},
     "output_type": "display_data"
    }
   ],
   "source": [
    "from keras import layers, models, optimizers, regularizers\n",
    "import tensorflow as tf\n",
    "\n",
    "def create_model(input_shape=(224, 224, 3), num_ingredients=26, num_classes=246):\n",
    "    inputs = layers.Input(shape=input_shape)\n",
    "\n",
    "    # Convolutional layers with regularization\n",
    "    x = layers.Conv2D(32, (3, 3), activation='relu', padding='same',\n",
    "                      kernel_regularizer=regularizers.l2(1e-3))(inputs)\n",
    "    x = layers.MaxPooling2D((2, 2))(x)\n",
    "    x = layers.BatchNormalization()(x)\n",
    "\n",
    "    x = layers.Conv2D(64, (3, 3), activation='relu', padding='same',\n",
    "                      kernel_regularizer=regularizers.l2(1e-3))(x)\n",
    "    x = layers.MaxPooling2D((2, 2))(x)\n",
    "    x = layers.BatchNormalization()(x)\n",
    "\n",
    "    x = layers.Conv2D(128, (3, 3), activation='relu', padding='same',\n",
    "                      kernel_regularizer=regularizers.l2(1e-3))(x)\n",
    "    x = layers.MaxPooling2D((2, 2))(x)\n",
    "    x = layers.BatchNormalization()(x)\n",
    "\n",
    "    # Fully connected layers with dropout\n",
    "    x = layers.GlobalAveragePooling2D()(x)\n",
    "    x = layers.Dense(256, activation='relu', kernel_regularizer=regularizers.l2(1e-3))(x)\n",
    "    x = layers.Dropout(0.5)(x)\n",
    "\n",
    "    # Classification output\n",
    "    class_logits = layers.Dense(num_ingredients * num_classes, activation=None)(x)\n",
    "    class_logits = layers.Reshape((num_ingredients, num_classes))(class_logits)\n",
    "    class_logits = layers.Lambda(lambda logits: tf.clip_by_value(logits, -10.0, 10.0))(class_logits)  # Clip logits\n",
    "    class_output = layers.Softmax(axis=-1, name='class_output')(class_logits)  # Apply softmax explicitlyt\n",
    "\n",
    "    # Regression output\n",
    "    regression_output = layers.Dense(num_ingredients, activation='linear', name='regression_output')(x)\n",
    "\n",
    "    # Define the model\n",
    "    model = models.Model(inputs=inputs, outputs=[class_output, regression_output])\n",
    "    return model\n",
    "\n",
    "# Create the model\n",
    "model = create_model()\n",
    "\n",
    "# Define the optimizer with learning rate\n",
    "optimizer = optimizers.Adam(learning_rate=1e-4)\n",
    "\n",
    "# Compile the model\n",
    "model.compile(\n",
    "    optimizer=optimizer,\n",
    "    loss={\n",
    "        'class_output': keras.losses.CategoricalCrossentropy(from_logits=False),\n",
    "        'regression_output': keras.losses.MeanSquaredError()\n",
    "    },\n",
    "    metrics={\n",
    "        'class_output': [keras.metrics.TopKCategoricalAccuracy(k=1), keras.metrics.TopKCategoricalAccuracy(k=5)],\n",
    "        'regression_output': 'mae'\n",
    "    }\n",
    ")\n",
    "\n",
    "# Print the model summary\n",
    "model.summary()\n"
   ]
  },
  {
   "cell_type": "code",
   "execution_count": 44,
   "metadata": {},
   "outputs": [
    {
     "name": "stdout",
     "output_type": "stream",
     "text": [
      "Epoch 1/10\n"
     ]
    },
    {
     "name": "stderr",
     "output_type": "stream",
     "text": [
      "c:\\Users\\Rafi Kyandra\\VSCODE\\Semester 5\\Bangkit MSIB\\Capstone\\capstonevenv\\Lib\\site-packages\\keras\\src\\models\\functional.py:225: UserWarning: The structure of `inputs` doesn't match the expected structure: keras_tensor_114. Received: the structure of inputs=('*',)\n",
      "  warnings.warn(\n"
     ]
    },
    {
     "name": "stdout",
     "output_type": "stream",
     "text": [
      "\u001b[1m1270/1270\u001b[0m \u001b[32m━━━━━━━━━━━━━━━━━━━━\u001b[0m\u001b[37m\u001b[0m \u001b[1m877s\u001b[0m 686ms/step - class_output_loss: 3.3095 - class_output_top_k_categorical_accuracy: 0.7309 - class_output_top_k_categorical_accuracy_1: 0.7836 - loss: 5434.8867 - regression_output_loss: 5431.2598 - regression_output_mae: 6.5502 - val_class_output_loss: 1.6063 - val_class_output_top_k_categorical_accuracy: 0.8408 - val_class_output_top_k_categorical_accuracy_1: 0.8681 - val_loss: 2840.7947 - val_regression_output_loss: 2836.6934 - val_regression_output_mae: 7.4705\n",
      "Epoch 2/10\n",
      "\u001b[1m1270/1270\u001b[0m \u001b[32m━━━━━━━━━━━━━━━━━━━━\u001b[0m\u001b[37m\u001b[0m \u001b[1m1139s\u001b[0m 897ms/step - class_output_loss: 1.2444 - class_output_top_k_categorical_accuracy: 0.8587 - class_output_top_k_categorical_accuracy_1: 0.8856 - loss: 4641.2217 - regression_output_loss: 4639.5850 - regression_output_mae: 7.2473 - val_class_output_loss: 1.3582 - val_class_output_top_k_categorical_accuracy: 0.8409 - val_class_output_top_k_categorical_accuracy_1: 0.8673 - val_loss: 2836.0911 - val_regression_output_loss: 2832.1980 - val_regression_output_mae: 6.7023\n",
      "Epoch 3/10\n",
      "\u001b[1m1270/1270\u001b[0m \u001b[32m━━━━━━━━━━━━━━━━━━━━\u001b[0m\u001b[37m\u001b[0m \u001b[1m884s\u001b[0m 696ms/step - class_output_loss: 1.1102 - class_output_top_k_categorical_accuracy: 0.8597 - class_output_top_k_categorical_accuracy_1: 0.8860 - loss: 5980.6465 - regression_output_loss: 5979.1167 - regression_output_mae: 7.2395 - val_class_output_loss: 1.2996 - val_class_output_top_k_categorical_accuracy: 0.8408 - val_class_output_top_k_categorical_accuracy_1: 0.8685 - val_loss: 2840.1147 - val_regression_output_loss: 2836.2515 - val_regression_output_mae: 7.1340\n",
      "Epoch 4/10\n",
      "\u001b[1m1270/1270\u001b[0m \u001b[32m━━━━━━━━━━━━━━━━━━━━\u001b[0m\u001b[37m\u001b[0m \u001b[1m874s\u001b[0m 688ms/step - class_output_loss: 1.0505 - class_output_top_k_categorical_accuracy: 0.8575 - class_output_top_k_categorical_accuracy_1: 0.8845 - loss: 5674.5625 - regression_output_loss: 5673.0791 - regression_output_mae: 7.0276 - val_class_output_loss: 1.1939 - val_class_output_top_k_categorical_accuracy: 0.8408 - val_class_output_top_k_categorical_accuracy_1: 0.8687 - val_loss: 2853.4871 - val_regression_output_loss: 2849.7295 - val_regression_output_mae: 6.4234\n",
      "Epoch 5/10\n",
      "\u001b[1m1270/1270\u001b[0m \u001b[32m━━━━━━━━━━━━━━━━━━━━\u001b[0m\u001b[37m\u001b[0m \u001b[1m864s\u001b[0m 680ms/step - class_output_loss: 0.9791 - class_output_top_k_categorical_accuracy: 0.8600 - class_output_top_k_categorical_accuracy_1: 0.8870 - loss: 4934.6289 - regression_output_loss: 4933.1968 - regression_output_mae: 6.7775 - val_class_output_loss: 2.1032 - val_class_output_top_k_categorical_accuracy: 0.8433 - val_class_output_top_k_categorical_accuracy_1: 0.9127 - val_loss: 3397.6125 - val_regression_output_loss: 3392.8196 - val_regression_output_mae: 14.0394\n",
      "Epoch 6/10\n",
      "\u001b[1m1270/1270\u001b[0m \u001b[32m━━━━━━━━━━━━━━━━━━━━\u001b[0m\u001b[37m\u001b[0m \u001b[1m886s\u001b[0m 698ms/step - class_output_loss: 0.9670 - class_output_top_k_categorical_accuracy: 0.8592 - class_output_top_k_categorical_accuracy_1: 0.8867 - loss: 4763.8335 - regression_output_loss: 4762.3921 - regression_output_mae: 6.7888 - val_class_output_loss: 1.3623 - val_class_output_top_k_categorical_accuracy: 0.8417 - val_class_output_top_k_categorical_accuracy_1: 0.8669 - val_loss: 2872.5767 - val_regression_output_loss: 2868.6394 - val_regression_output_mae: 6.5493\n",
      "Epoch 7/10\n",
      "\u001b[1m1270/1270\u001b[0m \u001b[32m━━━━━━━━━━━━━━━━━━━━\u001b[0m\u001b[37m\u001b[0m \u001b[1m893s\u001b[0m 703ms/step - class_output_loss: 0.9603 - class_output_top_k_categorical_accuracy: 0.8587 - class_output_top_k_categorical_accuracy_1: 0.8863 - loss: 5215.3164 - regression_output_loss: 5213.8740 - regression_output_mae: 6.7726 - val_class_output_loss: 1.3001 - val_class_output_top_k_categorical_accuracy: 0.8413 - val_class_output_top_k_categorical_accuracy_1: 0.8677 - val_loss: 2861.5754 - val_regression_output_loss: 2857.6907 - val_regression_output_mae: 7.0240\n",
      "Epoch 8/10\n",
      "\u001b[1m1270/1270\u001b[0m \u001b[32m━━━━━━━━━━━━━━━━━━━━\u001b[0m\u001b[37m\u001b[0m \u001b[1m867s\u001b[0m 682ms/step - class_output_loss: 0.9470 - class_output_top_k_categorical_accuracy: 0.8587 - class_output_top_k_categorical_accuracy_1: 0.8862 - loss: 5702.6079 - regression_output_loss: 5701.1685 - regression_output_mae: 6.8917 - val_class_output_loss: 2.2198 - val_class_output_top_k_categorical_accuracy: 0.8461 - val_class_output_top_k_categorical_accuracy_1: 0.9368 - val_loss: 4842.6147 - val_regression_output_loss: 4837.5488 - val_regression_output_mae: 20.4162\n",
      "Epoch 9/10\n",
      "\u001b[1m1270/1270\u001b[0m \u001b[32m━━━━━━━━━━━━━━━━━━━━\u001b[0m\u001b[37m\u001b[0m \u001b[1m941s\u001b[0m 741ms/step - class_output_loss: 0.9361 - class_output_top_k_categorical_accuracy: 0.8588 - class_output_top_k_categorical_accuracy_1: 0.8865 - loss: 4422.7666 - regression_output_loss: 4421.3359 - regression_output_mae: 6.6810 - val_class_output_loss: 1.5830 - val_class_output_top_k_categorical_accuracy: 0.8414 - val_class_output_top_k_categorical_accuracy_1: 0.8667 - val_loss: 2908.0251 - val_regression_output_loss: 2903.8552 - val_regression_output_mae: 6.5269\n",
      "Epoch 10/10\n",
      "\u001b[1m1270/1270\u001b[0m \u001b[32m━━━━━━━━━━━━━━━━━━━━\u001b[0m\u001b[37m\u001b[0m \u001b[1m893s\u001b[0m 703ms/step - class_output_loss: 0.9352 - class_output_top_k_categorical_accuracy: 0.8590 - class_output_top_k_categorical_accuracy_1: 0.8870 - loss: 4674.4585 - regression_output_loss: 4673.0273 - regression_output_mae: 6.7139 - val_class_output_loss: 1.1279 - val_class_output_top_k_categorical_accuracy: 0.8413 - val_class_output_top_k_categorical_accuracy_1: 0.8688 - val_loss: 2812.3555 - val_regression_output_loss: 2808.6211 - val_regression_output_mae: 7.4621\n"
     ]
    }
   ],
   "source": [
    "history = model.fit(\n",
    "    [X_train], \n",
    "    {'class_output': Y_train_class, 'regression_output': Y_train_weight},\n",
    "    validation_data=(\n",
    "        [X_val], \n",
    "        {'class_output': Y_val_class, 'regression_output': Y_val_weight}\n",
    "    ),\n",
    "    epochs=10,\n",
    "    batch_size=32,\n",
    "    verbose=1\n",
    ")\n"
   ]
  },
  {
   "cell_type": "code",
   "execution_count": 46,
   "metadata": {},
   "outputs": [
    {
     "name": "stdout",
     "output_type": "stream",
     "text": [
      "\u001b[1m150/150\u001b[0m \u001b[32m━━━━━━━━━━━━━━━━━━━━\u001b[0m\u001b[37m\u001b[0m \u001b[1m24s\u001b[0m 156ms/step - class_output_loss: 1.1517 - class_output_top_k_categorical_accuracy: 0.8386 - class_output_top_k_categorical_accuracy_1: 0.8665 - loss: 2551.1768 - regression_output_loss: 2549.4946 - regression_output_mae: 7.4565\n",
      "Test Results: [2772.745361328125, 1.1174829006195068, 2768.17578125, 0.8426077961921692, 0.8698375225067139, 7.4302568435668945]\n"
     ]
    }
   ],
   "source": [
    "# Evaluate the model on the test set\n",
    "test_results = model.evaluate(\n",
    "    x=X_test,\n",
    "    y={'class_output': Y_test_class, 'regression_output': Y_test_weight},\n",
    "    batch_size=32\n",
    ")\n",
    "\n",
    "print(\"Test Results:\", test_results)"
   ]
  },
  {
   "cell_type": "code",
   "execution_count": 23,
   "metadata": {},
   "outputs": [
    {
     "name": "stdout",
     "output_type": "stream",
     "text": [
      "ListWrapper(['reshape', 'regression_output'])\n"
     ]
    }
   ],
   "source": [
    "print(model.output_names)\n"
   ]
  },
  {
   "cell_type": "code",
   "execution_count": 47,
   "metadata": {},
   "outputs": [
    {
     "name": "stderr",
     "output_type": "stream",
     "text": [
      "WARNING:absl:You are saving your model as an HDF5 file via `model.save()` or `keras.saving.save_model(model)`. This file format is considered legacy. We recommend using instead the native Keras format, e.g. `model.save('my_model.keras')` or `keras.saving.save_model(model, 'my_model.keras')`. \n"
     ]
    },
    {
     "name": "stdout",
     "output_type": "stream",
     "text": [
      "Model saved as 'ingredient_weight_model_1.h5'\n"
     ]
    }
   ],
   "source": [
    "# Save the trained model\n",
    "model.save(\"ingredient_weight_model_1.h5\")\n",
    "print(\"Model saved as 'ingredient_weight_model_1.h5'\")"
   ]
  },
  {
   "cell_type": "code",
   "execution_count": 48,
   "metadata": {},
   "outputs": [
    {
     "name": "stdout",
     "output_type": "stream",
     "text": [
      "Model saved as 'ingredient_weight_model_1.keras'\n"
     ]
    }
   ],
   "source": [
    "# Save the model in the new Keras format\n",
    "model.save(\"ingredient_weight_model_1.keras\")\n",
    "print(\"Model saved as 'ingredient_weight_model_1.keras'\")"
   ]
  }
 ],
 "metadata": {
  "kernelspec": {
   "display_name": "capstonevenv",
   "language": "python",
   "name": "python3"
  },
  "language_info": {
   "codemirror_mode": {
    "name": "ipython",
    "version": 3
   },
   "file_extension": ".py",
   "mimetype": "text/x-python",
   "name": "python",
   "nbconvert_exporter": "python",
   "pygments_lexer": "ipython3",
   "version": "3.11.2"
  }
 },
 "nbformat": 4,
 "nbformat_minor": 2
}
